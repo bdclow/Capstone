{
 "cells": [
  {
   "cell_type": "code",
   "execution_count": null,
   "id": "0a8b3e2b-464a-433b-b2b8-2049217bd660",
   "metadata": {},
   "outputs": [],
   "source": [
    "import pandas as pd"
   ]
  },
  {
   "cell_type": "code",
   "execution_count": null,
   "id": "fef4c0a4-97d8-4075-99af-681f5966306c",
   "metadata": {},
   "outputs": [],
   "source": [
    "classes = pd.read_csv(\"../../data/skillshare_2022_classes.csv\", index_col=0)\n",
    "nmf_clustering = pd.read_parquet(\"../../data/cleaned/nmf_classes.parquet\")"
   ]
  },
  {
   "cell_type": "code",
   "execution_count": null,
   "id": "e912412b-4418-4a83-aa0a-5a38d96b8877",
   "metadata": {},
   "outputs": [],
   "source": [
    "vviews = "
   ]
  }
 ],
 "metadata": {
  "kernelspec": {
   "display_name": "env",
   "language": "python",
   "name": "env"
  },
  "language_info": {
   "name": ""
  }
 },
 "nbformat": 4,
 "nbformat_minor": 5
}
