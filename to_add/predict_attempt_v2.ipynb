{
 "cells": [
  {
   "cell_type": "code",
   "execution_count": null,
   "metadata": {},
   "outputs": [],
   "source": [
    "# pre-process: remove is_cancel = 1 and success = 1 (bad data)\n",
    "\n",
    "\n",
    "# split into 7 day v 30 day.\n",
    "# split 7 day into is_cancel v not_cancel\n",
    "# split 30 day into is_cancel v not_cancel\n",
    "# 1. 7 day + is_cancel = predict 0\n",
    "# 2. 30 day + is_cancel = predict 0\n",
    "# 3. 7 day ML\n",
    "# 4. 30 day ML\n",
    "# 5. Combine\n",
    "# 6. Get Scores.  Accuracy, Precision, Recall, F1."
   ]
  },
  {
   "cell_type": "code",
   "execution_count": 1,
   "metadata": {},
   "outputs": [],
   "source": [
    "import pandas as pd\n",
    "pd.options.mode.chained_assignment = None\n",
    "import numpy as np\n",
    "import seaborn as sns\n",
    "from matplotlib import pyplot as plt\n",
    "\n",
    "from sklearn.metrics import confusion_matrix\n",
    "from sklearn.linear_model import LogisticRegression\n",
    "from sklearn.model_selection import train_test_split\n",
    "from sklearn.preprocessing import StandardScaler\n",
    "from sklearn.tree import DecisionTreeClassifier\n",
    "from sklearn import tree\n",
    "from sklearn.metrics import precision_score, recall_score, f1_score, accuracy_score"
   ]
  },
  {
   "cell_type": "code",
   "execution_count": 2,
   "metadata": {},
   "outputs": [],
   "source": [
    "combo_df = pd.read_csv('~/capstone_data/skillshare_combined.csv')\n",
    "combo_df = combo_df.fillna(0.0)"
   ]
  },
  {
   "cell_type": "code",
   "execution_count": 3,
   "metadata": {},
   "outputs": [],
   "source": [
    "# pre-process: remove is_cancel = 1 and success = 1 (bad data)\n",
    "combo_df = combo_df[~((combo_df['success']==1) & (combo_df['is_cancel_during_trial']==1))]"
   ]
  },
  {
   "cell_type": "code",
   "execution_count": 4,
   "metadata": {},
   "outputs": [],
   "source": [
    "# split into 7 day v 30 day.\n",
    "month_df = combo_df[combo_df['trial_length_offer_cat_codes'] == 0]\n",
    "week_df = combo_df[combo_df['trial_length_offer_cat_codes'] == 1]"
   ]
  },
  {
   "cell_type": "code",
   "execution_count": 5,
   "metadata": {},
   "outputs": [],
   "source": [
    "# split 7 day into is_cancel v not_cancel\n",
    "week_df_cancel = week_df[week_df['is_cancel_during_trial']==1]\n",
    "week_df_elig = week_df[week_df['is_cancel_during_trial']==0]"
   ]
  },
  {
   "cell_type": "code",
   "execution_count": 6,
   "metadata": {},
   "outputs": [],
   "source": [
    "# split 30 day into is_cancel v not_cancel\n",
    "month_df_cancel = month_df[month_df['is_cancel_during_trial']==1]\n",
    "month_df_elig = month_df[month_df['is_cancel_during_trial']==0]"
   ]
  },
  {
   "cell_type": "code",
   "execution_count": 7,
   "metadata": {},
   "outputs": [],
   "source": [
    "# 1. 7 day + is_cancel = predict 0\n",
    "y_w_c = week_df_cancel[['success']]\n",
    "y_w_c['predict'] = 0"
   ]
  },
  {
   "cell_type": "code",
   "execution_count": 8,
   "metadata": {},
   "outputs": [],
   "source": [
    "# 2. 30 day + is_cancel = predict 0\n",
    "y_m_c = month_df_cancel[['success']]\n",
    "y_m_c['predict'] = 0"
   ]
  },
  {
   "cell_type": "code",
   "execution_count": 9,
   "metadata": {},
   "outputs": [],
   "source": [
    "# 3. 7 day ML\n",
    "y = week_df_elig['success']\n",
    "X = week_df_elig[['payment_provider_cat_codes', 'payment_ux_cat_codes',\n",
    "       'trial_length_offer_cat_codes', 'sub_utm_channel_cat_codes',\n",
    "       'sub_utm_source_cat_codes',\n",
    "       'is_cancel_during_trial', 'day-1', 'day-2', 'day-3', 'day-4', 'day-5',\n",
    "       'day-6', 'day-7', 'day-8', 'day-9', 'day-10', 'day-11', 'day-12',\n",
    "       'day-13', 'day-14', 'day-15', 'day-16', 'day-17', 'day-18', 'day-19',\n",
    "       'day-20', 'day-21', 'day-22', 'day-23', 'day-24', 'day-25', 'day-26',\n",
    "       'day-27', 'day-28', 'day-29', 'day-30', 'day-31', 'comment_volume',\n",
    "       'comment_score', 'discussion_volume', 'discussion_score',\n",
    "       'follow_volume', 'projects_volume', 'projects_score', 'review_volume',\n",
    "       'rating_avg', 'signup_country_name_cat_codes', \n",
    "        'signup_geo_region_cat_codes', 'signup_platform_cat_codes']]"
   ]
  },
  {
   "cell_type": "code",
   "execution_count": 10,
   "metadata": {},
   "outputs": [],
   "source": [
    "X_train, X_test, y_train, y_test = train_test_split(X, y, test_size=0.2)"
   ]
  },
  {
   "cell_type": "code",
   "execution_count": 11,
   "metadata": {},
   "outputs": [
    {
     "name": "stdout",
     "output_type": "stream",
     "text": [
      "[[4581 3224]\n",
      " [2321 4115]] 0.6106312758935468\n"
     ]
    }
   ],
   "source": [
    "dtclf = DecisionTreeClassifier(max_depth=6).fit(X_train, y_train)\n",
    "y_pred = dtclf.predict(X_test)\n",
    "cm_dt = confusion_matrix(y_test, y_pred)\n",
    "print(cm_dt, dtclf.score(X_test, y_test))"
   ]
  },
  {
   "cell_type": "code",
   "execution_count": 12,
   "metadata": {},
   "outputs": [],
   "source": [
    "y_w_e = pd.DataFrame({'success': y_test,  'predict' : y_pred})"
   ]
  },
  {
   "cell_type": "code",
   "execution_count": 13,
   "metadata": {},
   "outputs": [],
   "source": [
    "# 4. 30 day ML\n",
    "y = month_df_elig['success']\n",
    "X = month_df_elig[['payment_provider_cat_codes', 'payment_ux_cat_codes',\n",
    "       'trial_length_offer_cat_codes', 'sub_utm_channel_cat_codes',\n",
    "       'sub_utm_source_cat_codes',\n",
    "       'is_cancel_during_trial', 'day-1', 'day-2', 'day-3', 'day-4', 'day-5',\n",
    "       'day-6', 'day-7', 'day-8', 'day-9', 'day-10', 'day-11', 'day-12',\n",
    "       'day-13', 'day-14', 'day-15', 'day-16', 'day-17', 'day-18', 'day-19',\n",
    "       'day-20', 'day-21', 'day-22', 'day-23', 'day-24', 'day-25', 'day-26',\n",
    "       'day-27', 'day-28', 'day-29', 'day-30', 'day-31', 'comment_volume',\n",
    "       'comment_score', 'discussion_volume', 'discussion_score',\n",
    "       'follow_volume', 'projects_volume', 'projects_score', 'review_volume',\n",
    "       'rating_avg', 'signup_country_name_cat_codes', \n",
    "        'signup_geo_region_cat_codes', 'signup_platform_cat_codes']]"
   ]
  },
  {
   "cell_type": "code",
   "execution_count": 14,
   "metadata": {},
   "outputs": [
    {
     "name": "stdout",
     "output_type": "stream",
     "text": [
      "[[23364  2410]\n",
      " [10287  5545]] 0.6948276690861895\n"
     ]
    }
   ],
   "source": [
    "X_train, X_test, y_train, y_test = train_test_split(X, y, test_size=0.2)\n",
    "dtclf = DecisionTreeClassifier(max_depth=6).fit(X_train, y_train)\n",
    "y_pred = dtclf.predict(X_test)\n",
    "cm_dt = confusion_matrix(y_test, y_pred)\n",
    "print(cm_dt, dtclf.score(X_test, y_test))"
   ]
  },
  {
   "cell_type": "code",
   "execution_count": 15,
   "metadata": {},
   "outputs": [],
   "source": [
    "y_m_e = pd.DataFrame({'success': y_test,  'predict' : y_pred})"
   ]
  },
  {
   "cell_type": "code",
   "execution_count": null,
   "metadata": {},
   "outputs": [],
   "source": []
  },
  {
   "cell_type": "code",
   "execution_count": 16,
   "metadata": {},
   "outputs": [],
   "source": [
    "# 5. Combine\n",
    "y_df = y_w_c.append(y_m_c)\n",
    "y_df = y_df.append(y_w_e)\n",
    "y_df = y_df.append(y_m_e)"
   ]
  },
  {
   "cell_type": "code",
   "execution_count": 17,
   "metadata": {},
   "outputs": [],
   "source": [
    "# 6. Get Scores.  Accuracy, Precision, Recall, F1.\n"
   ]
  },
  {
   "cell_type": "code",
   "execution_count": 18,
   "metadata": {},
   "outputs": [
    {
     "name": "stdout",
     "output_type": "stream",
     "text": [
      "Accuracy: 0.927\n",
      "Precision: 0.632\n",
      "Recall: 0.434\n",
      "F1 Score: 0.514\n"
     ]
    }
   ],
   "source": [
    "print('Accuracy: %.3f' % accuracy_score(y_df['success'], y_df['predict']))\n",
    "print('Precision: %.3f' % precision_score(y_df['success'], y_df['predict']))\n",
    "print('Recall: %.3f' % recall_score(y_df['success'], y_df['predict']))\n",
    "print('F1 Score: %.3f' % f1_score(y_df['success'], y_df['predict']))"
   ]
  },
  {
   "cell_type": "code",
   "execution_count": null,
   "metadata": {},
   "outputs": [],
   "source": [
    "y_df"
   ]
  },
  {
   "cell_type": "code",
   "execution_count": null,
   "metadata": {},
   "outputs": [],
   "source": []
  },
  {
   "cell_type": "code",
   "execution_count": null,
   "metadata": {},
   "outputs": [],
   "source": []
  },
  {
   "cell_type": "code",
   "execution_count": null,
   "metadata": {},
   "outputs": [],
   "source": []
  }
 ],
 "metadata": {
  "kernelspec": {
   "display_name": "Python 3",
   "language": "python",
   "name": "python3"
  },
  "language_info": {
   "codemirror_mode": {
    "name": "ipython",
    "version": 3
   },
   "file_extension": ".py",
   "mimetype": "text/x-python",
   "name": "python",
   "nbconvert_exporter": "python",
   "pygments_lexer": "ipython3",
   "version": "3.8.5"
  }
 },
 "nbformat": 4,
 "nbformat_minor": 4
}
