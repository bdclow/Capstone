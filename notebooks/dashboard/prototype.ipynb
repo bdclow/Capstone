{
 "cells": [
  {
   "cell_type": "code",
   "execution_count": 1,
   "id": "fbb2d6f2-a142-4893-9ed7-00a51580f777",
   "metadata": {},
   "outputs": [],
   "source": [
    "from dash import html, dcc, Dash\n",
    "from jupyter_dash import JupyterDash\n",
    "import plotly.express as px\n",
    "import pandas as pd\n",
    "\n",
    "THRESHOLD = 0.65\n",
    "\n",
    "new_trialers = pd.read_csv(\n",
    "        \"../../data/predictions/08-14-22_1640_predictions.csv\")\n",
    "new_trialers[\"color\"] = new_trialers.ChurnProb.apply(\n",
    "    lambda x: \"green\" if x < THRESHOLD else \"red\")\n",
    "\n",
    "fig = px.strip(\n",
    "    new_trialers, \n",
    "    x='ChurnProb', \n",
    "    facet_row='trial_length_days',\n",
    "    labels={\"trial_length_days\": \"Length of Trial\",\n",
    "            \"ChurnProb\": \"Probability of Churning\"},\n",
    "    color='color')\n",
    "\n",
    "external_stylesheets = ['https://codepen.io/chriddyp/pen/bWLwgP.css']\n",
    "app = JupyterDash(__name__, external_stylesheets=external_stylesheets)\n",
    "server = app.server"
   ]
  },
  {
   "cell_type": "code",
   "execution_count": 2,
   "id": "01ba201a-6581-4506-b6bb-2d2af7e98a86",
   "metadata": {},
   "outputs": [],
   "source": [
    "app.layout = html.Div(\n",
    "    [\n",
    "        html.H1(\n",
    "            'Skillshare Churn Predictions',\n",
    "            style={\n",
    "                'textAlign': 'center',\n",
    "                'color': 'white',\n",
    "                \"background\": \"navy\"}),\n",
    "        dcc.Graph(\n",
    "            id='graph-1',\n",
    "            figure=fig)\n",
    "    ], \n",
    "    style={\n",
    "        \"background\": \"#000080\"})"
   ]
  },
  {
   "cell_type": "code",
   "execution_count": 3,
   "id": "2a0d73b5-1e76-4f2a-8504-93bee435626c",
   "metadata": {},
   "outputs": [
    {
     "data": {
      "text/html": [
       "\n",
       "        <iframe\n",
       "            width=\"100%\"\n",
       "            height=\"650\"\n",
       "            src=\"http://127.0.0.1:8050/\"\n",
       "            frameborder=\"0\"\n",
       "            allowfullscreen\n",
       "            \n",
       "        ></iframe>\n",
       "        "
      ],
      "text/plain": [
       "<IPython.lib.display.IFrame at 0x7fce1de0c8b0>"
      ]
     },
     "metadata": {},
     "output_type": "display_data"
    }
   ],
   "source": [
    "app.run_server(mode='inline', debug=True, use_reloader=False)"
   ]
  }
 ],
 "metadata": {
  "kernelspec": {
   "display_name": "Python 3 (ipykernel)",
   "language": "python",
   "name": "python3"
  },
  "language_info": {
   "codemirror_mode": {
    "name": "ipython",
    "version": 3
   },
   "file_extension": ".py",
   "mimetype": "text/x-python",
   "name": "python",
   "nbconvert_exporter": "python",
   "pygments_lexer": "ipython3",
   "version": "3.10.5"
  }
 },
 "nbformat": 4,
 "nbformat_minor": 5
}
