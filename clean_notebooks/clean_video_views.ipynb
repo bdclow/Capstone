{
 "cells": [
  {
   "cell_type": "code",
   "execution_count": 3,
   "metadata": {},
   "outputs": [],
   "source": [
    "import pandas as pd\n",
    "pd.options.mode.chained_assignment = None\n",
    "import numpy as np"
   ]
  },
  {
   "cell_type": "code",
   "execution_count": 4,
   "metadata": {},
   "outputs": [],
   "source": [
    "# load the starts data\n",
    "starts_df = pd.read_csv('~/capstone_data/skillshare_2022_starts_clean.csv')"
   ]
  },
  {
   "cell_type": "code",
   "execution_count": 5,
   "metadata": {},
   "outputs": [],
   "source": [
    "# when saved as csv, the date columns tend to revert to str, so to be sure:\n",
    "# make a day version of the trial start and end dates.\n",
    "starts_df['trial_end_day'] = pd.to_datetime(starts_df.original_trial_end).dt.date\n",
    "starts_df['trial_start_day'] = pd.to_datetime(starts_df.create_time).dt.date"
   ]
  },
  {
   "cell_type": "code",
   "execution_count": 6,
   "metadata": {},
   "outputs": [],
   "source": [
    "# make a small df for merging onto the video views data.\n",
    "trial_ends = starts_df[['user_uid', 'trial_start_day', 'trial_end_day']]"
   ]
  },
  {
   "cell_type": "code",
   "execution_count": 7,
   "metadata": {},
   "outputs": [],
   "source": [
    "file_ends = [x for x in range(63)]"
   ]
  },
  {
   "cell_type": "code",
   "execution_count": 8,
   "metadata": {},
   "outputs": [
    {
     "name": "stdout",
     "output_type": "stream",
     "text": [
      "working on file 0\n",
      "working on file 1\n",
      "working on file 2\n"
     ]
    }
   ],
   "source": [
    "full_user_df = pd.DataFrame()\n",
    "\n",
    "for x in [0, 1, 2]:\n",
    "    print('working on file', x)\n",
    "    filename = '~/capstone_data/skillshare_2022_vviews_'+str(x)+'.csv'\n",
    "    vviews_df = pd.read_csv(filename)\n",
    "    vviews_df['view_date_dt'] = pd.to_datetime(vviews_df.view_date).dt.date\n",
    "    vviews_df = vviews_df.merge(trial_ends, how='left', left_on='uid', right_on='user_uid')\n",
    "    trial_vviews_df = vviews_df[vviews_df['view_date_dt'] < vviews_df['trial_end_day']]\n",
    "    trial_vviews_df['day_of_trial'] = (trial_vviews_df['view_date_dt'] - trial_vviews_df['trial_start_day']).dt.days + 1\n",
    "    trial_vviews_df = trial_vviews_df[trial_vviews_df['day_of_trial'] > 0]\n",
    "    ttv_df = trial_vviews_df.groupby(by=['uid', 'day_of_trial']).agg(minutes_watched=pd.NamedAgg(column='sum', aggfunc='sum')).reset_index()\n",
    "    vviews_pivot = ttv_df.pivot_table(\n",
    "        index=['uid'],\n",
    "        columns='day_of_trial',\n",
    "        values='minutes_watched').reset_index().rename_axis(None, axis=1).reset_index(drop=True).fillna(0.0)\n",
    "    full_user_df = full_user_df.append(vviews_pivot, ignore_index=True)\n",
    "    "
   ]
  },
  {
   "cell_type": "code",
   "execution_count": 9,
   "metadata": {},
   "outputs": [],
   "source": [
    "for x in full_user_df.columns:\n",
    "    if isinstance(x, int):\n",
    "        colname = 'day-'+str(x)\n",
    "        full_user_df.rename(columns={x: colname}, inplace=True)"
   ]
  },
  {
   "cell_type": "code",
   "execution_count": 10,
   "metadata": {},
   "outputs": [
    {
     "name": "stdout",
     "output_type": "stream",
     "text": [
      "15766 15766\n"
     ]
    }
   ],
   "source": [
    "print(len(full_user_df), len(full_user_df.uid.unique()))"
   ]
  },
  {
   "cell_type": "code",
   "execution_count": 12,
   "metadata": {},
   "outputs": [],
   "source": [
    "full_user_df.to_csv('~/capstone_data/skillshare_2022_all_views.csv', index=False)"
   ]
  }
 ],
 "metadata": {
  "kernelspec": {
   "display_name": "Python 3",
   "language": "python",
   "name": "python3"
  },
  "language_info": {
   "codemirror_mode": {
    "name": "ipython",
    "version": 3
   },
   "file_extension": ".py",
   "mimetype": "text/x-python",
   "name": "python",
   "nbconvert_exporter": "python",
   "pygments_lexer": "ipython3",
   "version": "3.8.5"
  }
 },
 "nbformat": 4,
 "nbformat_minor": 4
}
