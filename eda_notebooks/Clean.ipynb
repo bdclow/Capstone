{
 "cells": [
  {
   "cell_type": "code",
   "execution_count": 36,
   "id": "af10ed61-5071-47c6-a7b9-08d130bc7d52",
   "metadata": {},
   "outputs": [],
   "source": [
    "import pandas as pd\n",
    "import numpy as np\n",
    "from datetime import datetime"
   ]
  },
  {
   "cell_type": "code",
   "execution_count": 55,
   "id": "9163df6c-6f72-4fdc-bc3a-3b470879fbb6",
   "metadata": {},
   "outputs": [],
   "source": [
    "prefix = \"skillshare_2022_\"\n",
    "suffix = \".csv\"\n",
    "data_dir = \"../data/\"\n",
    "date_format = \"%Y-%m-%d %H:%M:%S\"\n",
    "\n",
    "parse_dt = lambda dt_str: datetime.strptime(dt_str, date_format)\n",
    "\n",
    "class DataSet:\n",
    "    '''\n",
    "    CSV\n",
    "    '''\n",
    "    def __init__(self, filepath: str):\n",
    "        self.name = filepath.replace(prefix, \"\").replace(suffix, \"\")\n",
    "        self.filepath = data_dir + filepath\n",
    "        \n",
    "    def __repr__(self):\n",
    "        return f\"{self.name} dataset\"\n",
    "    \n",
    "    def dataframe(self):\n",
    "        '''\n",
    "        Load CSV to Pandas DataFrame\n",
    "        Automatically parse dates if 'time' in col name\n",
    "        Returns DF\n",
    "        '''\n",
    "        df = pd.read_csv(self.filepath, index_col=0)\n",
    "        time_cols = [col for col in df.columns if \"time\" in col]\n",
    "        for col in time_cols:\n",
    "            df[col] = pd.to_datetime(df[col], format=date_format)\n",
    "        df.user_uid = df.user_uid.astype(int, errors='ignore')\n",
    "        return df"
   ]
  },
  {
   "cell_type": "code",
   "execution_count": 56,
   "id": "25963d56-2877-4007-918a-e247851fe19b",
   "metadata": {},
   "outputs": [
    {
     "data": {
      "text/plain": [
       "{'comments': comments dataset,\n",
       " 'discussions': discussions dataset,\n",
       " 'follows': follows dataset,\n",
       " 'projects': projects dataset,\n",
       " 'reviews': reviews dataset,\n",
       " 'starts': starts dataset,\n",
       " 'starts_views_combined': starts_views_combined dataset,\n",
       " 'visits_0': visits_0 dataset,\n",
       " 'visits_10': visits_10 dataset,\n",
       " 'visits_11': visits_11 dataset,\n",
       " 'visits_12': visits_12 dataset,\n",
       " 'visits_13': visits_13 dataset,\n",
       " 'visits_14': visits_14 dataset,\n",
       " 'visits_15': visits_15 dataset,\n",
       " 'visits_16': visits_16 dataset,\n",
       " 'visits_17': visits_17 dataset,\n",
       " 'visits_18': visits_18 dataset,\n",
       " 'visits_19': visits_19 dataset,\n",
       " 'visits_1': visits_1 dataset,\n",
       " 'visits_20': visits_20 dataset,\n",
       " 'visits_21': visits_21 dataset,\n",
       " 'visits_22': visits_22 dataset,\n",
       " 'visits_23': visits_23 dataset,\n",
       " 'visits_24': visits_24 dataset,\n",
       " 'visits_2': visits_2 dataset,\n",
       " 'visits_3': visits_3 dataset,\n",
       " 'visits_4': visits_4 dataset,\n",
       " 'visits_5': visits_5 dataset,\n",
       " 'visits_6': visits_6 dataset,\n",
       " 'visits_7': visits_7 dataset,\n",
       " 'visits_8': visits_8 dataset,\n",
       " 'visits_9': visits_9 dataset,\n",
       " 'skillshare_combined': skillshare_combined dataset}"
      ]
     },
     "execution_count": 56,
     "metadata": {},
     "output_type": "execute_result"
    }
   ],
   "source": [
    "#files = !ls ../data | rg -ve \"views_\\d\"\n",
    "\n",
    "files = ['skillshare_2022_comments.csv', 'skillshare_2022_discussions.csv', 'skillshare_2022_follows.csv', \n",
    "         'skillshare_2022_projects.csv', 'skillshare_2022_reviews.csv', 'skillshare_2022_starts.csv', \n",
    "         'skillshare_2022_starts_views_combined.csv', 'skillshare_2022_visits_0.csv', 'skillshare_2022_visits_10.csv', \n",
    "         'skillshare_2022_visits_11.csv', 'skillshare_2022_visits_12.csv', 'skillshare_2022_visits_13.csv', \n",
    "         'skillshare_2022_visits_14.csv', 'skillshare_2022_visits_15.csv', 'skillshare_2022_visits_16.csv', \n",
    "         'skillshare_2022_visits_17.csv', 'skillshare_2022_visits_18.csv', 'skillshare_2022_visits_19.csv', \n",
    "         'skillshare_2022_visits_1.csv', 'skillshare_2022_visits_20.csv', 'skillshare_2022_visits_21.csv', \n",
    "         'skillshare_2022_visits_22.csv', 'skillshare_2022_visits_23.csv', 'skillshare_2022_visits_24.csv', \n",
    "         'skillshare_2022_visits_2.csv', 'skillshare_2022_visits_3.csv', 'skillshare_2022_visits_4.csv', \n",
    "         'skillshare_2022_visits_5.csv', 'skillshare_2022_visits_6.csv', 'skillshare_2022_visits_7.csv', \n",
    "         'skillshare_2022_visits_8.csv', 'skillshare_2022_visits_9.csv', 'skillshare_combined.csv']\n",
    "\n",
    "csv_data = {}\n",
    "for file in files:\n",
    "    ds = DataSet(file)\n",
    "    csv_data[ds.name] = ds\n",
    "csv_data"
   ]
  },
  {
   "cell_type": "code",
   "execution_count": 57,
   "id": "71ad6779-d4a5-476e-9217-e364c3dfe0f9",
   "metadata": {},
   "outputs": [
    {
     "name": "stderr",
     "output_type": "stream",
     "text": [
      "/tmp/ipykernel_99906/1509122392.py:25: DtypeWarning: Columns (24,53) have mixed types. Specify dtype option on import or set low_memory=False.\n",
      "  df = pd.read_csv(self.filepath, index_col=0)\n"
     ]
    },
    {
     "data": {
      "text/plain": [
       "0        2022-01-01 00:12:27\n",
       "1        2022-01-08 18:32:43\n",
       "2        2022-01-01 00:17:15\n",
       "3        2022-02-01 03:31:19\n",
       "4        2022-01-01 00:26:59\n",
       "                 ...        \n",
       "655198   2022-05-31 23:46:27\n",
       "655199   2022-05-31 23:47:01\n",
       "655200   2022-05-31 23:49:31\n",
       "655201   2022-05-31 23:56:04\n",
       "655202   2022-05-31 23:58:00\n",
       "Name: update_time, Length: 655203, dtype: datetime64[ns]"
      ]
     },
     "execution_count": 57,
     "metadata": {},
     "output_type": "execute_result"
    }
   ],
   "source": [
    "starts = csv_data['starts'].dataframe()\n",
    "starts.update_time"
   ]
  },
  {
   "cell_type": "code",
   "execution_count": 65,
   "id": "ffd054fa-03ab-44bb-88e9-aa3027e3ee31",
   "metadata": {},
   "outputs": [
    {
     "data": {
      "text/plain": [
       "12804"
      ]
     },
     "execution_count": 65,
     "metadata": {},
     "output_type": "execute_result"
    }
   ],
   "source": [
    "starts[starts.columns[24]].notnull().sum()"
   ]
  }
 ],
 "metadata": {
  "kernelspec": {
   "display_name": "Python 3 (ipykernel)",
   "language": "python",
   "name": "python3"
  },
  "language_info": {
   "codemirror_mode": {
    "name": "ipython",
    "version": 3
   },
   "file_extension": ".py",
   "mimetype": "text/x-python",
   "name": "python",
   "nbconvert_exporter": "python",
   "pygments_lexer": "ipython3",
   "version": "3.10.5"
  }
 },
 "nbformat": 4,
 "nbformat_minor": 5
}
