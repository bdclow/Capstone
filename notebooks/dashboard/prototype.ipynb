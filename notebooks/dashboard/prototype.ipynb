{
 "cells": [
  {
   "cell_type": "code",
   "execution_count": 1,
   "id": "fbb2d6f2-a142-4893-9ed7-00a51580f777",
   "metadata": {},
   "outputs": [],
   "source": [
    "from dash import html, dcc, Dash, Input, Output\n",
    "from jupyter_dash import JupyterDash\n",
    "import plotly.express as px\n",
    "import pandas as pd\n",
    "import os"
   ]
  },
  {
   "cell_type": "code",
   "execution_count": 2,
   "id": "9dbb7d80-cbbc-4a0d-8d6b-4ad2f6a76172",
   "metadata": {},
   "outputs": [
    {
     "name": "stdout",
     "output_type": "stream",
     "text": [
      "08-17-22_0757_predictions.csv\n"
     ]
    },
    {
     "data": {
      "text/plain": [
       "'/home/bc/Development/capstone_project/data/predictions/08-17-22_0757_predictions.csv'"
      ]
     },
     "execution_count": 2,
     "metadata": {},
     "output_type": "execute_result"
    }
   ],
   "source": [
    "# Threshold for whether likely to conver or churn\n",
    "THRESHOLD = 0.65\n",
    "\n",
    "# If no files present, need to run pipeline for predictions (e.g. 'make all' or 'make sample')\n",
    "pred_dir = \"../../data/predictions/\"\n",
    "all_predictions = !ls -ls $pred_dir\n",
    "prediction_file = all_predictions.pop().split()[-1]\n",
    "print(prediction_file)\n",
    "prediction_file_full_path = os.path.join(os.path.abspath(pred_dir), prediction_file)\n",
    "prediction_file_full_path"
   ]
  },
  {
   "cell_type": "code",
   "execution_count": 3,
   "id": "8cd2dbbe-d2e0-4b18-80fc-d34599abc7d5",
   "metadata": {},
   "outputs": [],
   "source": [
    "new_trialers = pd.read_csv(prediction_file_full_path, index_col=0)\n",
    "new_trialers[\"color\"] = new_trialers.ChurnProb.apply(\n",
    "    lambda x: \"green\" if x < THRESHOLD else \"red\")\n",
    "\n",
    "def build_out_md_string(row):\n",
    "    if isinstance(row, pd.Series):\n",
    "        frame = row.to_frame().T\n",
    "    elif isinstance(row, pd.DataFrame):\n",
    "        frame = row\n",
    "    \n",
    "    if len(frame) == 1:\n",
    "        string_out = \"--- | ---\"\n",
    "        frame = row\n",
    "        for col in frame.columns:\n",
    "            string_out += f\"\\n{col} | {row[col]}\"\n",
    "        return string_out\n",
    "    elif len(frame) == 0:\n",
    "        return \"## Select user\"        \n",
    "    else:\n",
    "        return '**Error, received more than one row of users**'\n",
    "\n",
    "fig1 = px.scatter(\n",
    "    new_trialers, \n",
    "    x='ChurnProb', \n",
    "    y=\"total_watchtime_day_1\",\n",
    "    facet_row='trial_length_days',\n",
    "    labels={\"trial_length_days\": \"Length of Trial\",\n",
    "            \"total_watchtime_day_1\": \"Video watch time day 1\", \n",
    "            \"ChurnProb\": \"Probability of Churning\"},\n",
    "    color='color')\n",
    "\n",
    "app = JupyterDash(__name__)\n",
    "server = app.server"
   ]
  },
  {
   "cell_type": "code",
   "execution_count": 7,
   "id": "5a83a287-bd33-41a8-866f-4b1375ba101e",
   "metadata": {},
   "outputs": [],
   "source": [
    "@app.callback(\n",
    "    Output('table-1', 'children'),\n",
    "    Input('graph-1', 'hoverData')\n",
    ")\n",
    "def update_graph_2(value):\n",
    "    max_rows = 10\n",
    "    print(value)\n",
    "    if value:\n",
    "        index = value['points'][0]['pointNumber']\n",
    "        dataframe = new_trialers.iloc[index].reset_index().T\n",
    "        print(dataframe)\n",
    "        return html.Table(\n",
    "            html.Thead(\n",
    "                html.Tr([html.Th(col) for col in dataframe.columns])\n",
    "            ),\n",
    "            html.Tbody([\n",
    "                html.Tr([\n",
    "                    html.Td(dataframe.iloc[i][col]) for col in dataframe.columns\n",
    "                ]) for i in range(min(len(dataframe), max_rows))\n",
    "            ])\n",
    "        )\n",
    "    else:\n",
    "        return None"
   ]
  },
  {
   "cell_type": "code",
   "execution_count": 8,
   "id": "01ba201a-6581-4506-b6bb-2d2af7e98a86",
   "metadata": {},
   "outputs": [],
   "source": [
    "app.layout = html.Div(\n",
    "    [\n",
    "        html.H1(\n",
    "            'Skillshare Churn Predictions',\n",
    "            style={\n",
    "                'textAlign': 'center',\n",
    "                'color': 'black',\n",
    "                \"background\": \"white\"}),\n",
    "        dcc.Graph(\n",
    "            id='graph-1',\n",
    "            figure=fig1,\n",
    "            style={'width':'400px'}),\n",
    "        html.Table(id='table-1'),\n",
    "    ])\n",
    "    # style={\n",
    "    #     \"background\": \"#000080\"})"
   ]
  },
  {
   "cell_type": "code",
   "execution_count": 9,
   "id": "2a0d73b5-1e76-4f2a-8504-93bee435626c",
   "metadata": {},
   "outputs": [
    {
     "name": "stderr",
     "output_type": "stream",
     "text": [
      "/usr/lib/python3.10/site-packages/jupyter_dash/jupyter_app.py:139: UserWarning:\n",
      "\n",
      "The 'environ['werkzeug.server.shutdown']' function is deprecated and will be removed in Werkzeug 2.1.\n",
      "\n"
     ]
    },
    {
     "data": {
      "text/html": [
       "\n",
       "        <iframe\n",
       "            width=\"100%\"\n",
       "            height=\"650\"\n",
       "            src=\"http://127.0.0.1:8050/\"\n",
       "            frameborder=\"0\"\n",
       "            allowfullscreen\n",
       "            \n",
       "        ></iframe>\n",
       "        "
      ],
      "text/plain": [
       "<IPython.lib.display.IFrame at 0x7f5062906860>"
      ]
     },
     "metadata": {},
     "output_type": "display_data"
    }
   ],
   "source": [
    "app.run_server(mode='inline', debug=True)"
   ]
  }
 ],
 "metadata": {
  "kernelspec": {
   "display_name": "Python 3 (ipykernel)",
   "language": "python",
   "name": "python3"
  },
  "language_info": {
   "codemirror_mode": {
    "name": "ipython",
    "version": 3
   },
   "file_extension": ".py",
   "mimetype": "text/x-python",
   "name": "python",
   "nbconvert_exporter": "python",
   "pygments_lexer": "ipython3",
   "version": "3.10.5"
  }
 },
 "nbformat": 4,
 "nbformat_minor": 5
}
