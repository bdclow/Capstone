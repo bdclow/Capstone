{
 "cells": [
  {
   "cell_type": "code",
   "execution_count": null,
   "metadata": {},
   "outputs": [],
   "source": [
    "# pre-process: \n",
    "# remove is_cancel = 1 and success = 1 (bad data)\n",
    "# One Hot Encode categorical columns\n",
    "# Add One Hot Buckets for 1 Day\n",
    "\n",
    "\n",
    "# Build Pipeline\n",
    "# split into 7 day v 30 day.\n",
    "# split 7 day into is_cancel v not_cancel\n",
    "# split 30 day into is_cancel v not_cancel\n",
    "# 1. 7 day + is_cancel = predict 0\n",
    "# 2. 30 day + is_cancel = predict 0\n",
    "# 3. 7 day ML\n",
    "# 4. 30 day ML\n",
    "# 5. Combine\n",
    "# 6. Get Scores.  Accuracy, Precision, Recall, F1."
   ]
  },
  {
   "cell_type": "code",
   "execution_count": 33,
   "metadata": {},
   "outputs": [],
   "source": [
    "import pandas as pd\n",
    "pd.options.mode.chained_assignment = None\n",
    "import numpy as np\n",
    "import seaborn as sns\n",
    "from matplotlib import pyplot as plt\n",
    "\n",
    "from sklearn.metrics import confusion_matrix\n",
    "from sklearn.linear_model import LogisticRegression\n",
    "from sklearn.model_selection import train_test_split\n",
    "from sklearn.preprocessing import StandardScaler\n",
    "from sklearn.tree import DecisionTreeClassifier\n",
    "from sklearn import tree\n",
    "from sklearn.metrics import precision_score, recall_score, f1_score, accuracy_score\n",
    "from sklearn.preprocessing import OneHotEncoder\n"
   ]
  },
  {
   "cell_type": "code",
   "execution_count": 34,
   "metadata": {},
   "outputs": [],
   "source": [
    "combo_df = pd.read_csv('~/capstone_data/skillshare_combined.csv')\n",
    "combo_df = combo_df.fillna(0.0)"
   ]
  },
  {
   "cell_type": "code",
   "execution_count": 35,
   "metadata": {},
   "outputs": [],
   "source": [
    "# PREPROCEESSING\n",
    "# remove is_cancel = 1 and success = 1 (bad data)\n",
    "combo_df = combo_df[~((combo_df['success']==1) & (combo_df['is_cancel_during_trial']==1))]"
   ]
  },
  {
   "cell_type": "code",
   "execution_count": 36,
   "metadata": {},
   "outputs": [],
   "source": [
    "# One Hot Encode categorical columns\n",
    "encoder = OneHotEncoder(drop='first', sparse=False)"
   ]
  },
  {
   "cell_type": "code",
   "execution_count": 37,
   "metadata": {},
   "outputs": [],
   "source": [
    "encoder_df = pd.DataFrame(encoder.fit_transform(combo_df[['payment_provider_cat_codes']]))\n",
    "cols_names = ['pay_provider'+str(x) for x in list(encoder_df.columns)]\n",
    "encoder_df.columns = cols_names\n",
    "combo_df = combo_df.join(encoder_df)\n",
    "del combo_df['payment_provider_cat_codes']"
   ]
  },
  {
   "cell_type": "code",
   "execution_count": 38,
   "metadata": {},
   "outputs": [],
   "source": [
    "encoder_df = pd.DataFrame(encoder.fit_transform(combo_df[['payment_ux_cat_codes']]))\n",
    "cols_names = ['pay_ux'+str(x) for x in list(encoder_df.columns)]\n",
    "encoder_df.columns = cols_names\n",
    "combo_df = combo_df.join(encoder_df)\n",
    "del combo_df['payment_ux_cat_codes']"
   ]
  },
  {
   "cell_type": "code",
   "execution_count": 51,
   "metadata": {},
   "outputs": [],
   "source": [
    "# encoder_df = pd.DataFrame(encoder.fit_transform(combo_df[['sub_utm_channel_cat_codes']]))\n",
    "# cols_names = ['channel'+str(x) for x in list(encoder_df.columns)]\n",
    "# encoder_df.columns = cols_names\n",
    "# combo_df = combo_df.join(encoder_df)\n",
    "# del combo_df['sub_utm_channel_cat_codes']\n",
    "### Too Many.  Get the top 5\n",
    "\n",
    "# 1. YTInfluencer\n",
    "combo_df['Is_YT'] = 0\n",
    "combo_df['Is_YT'][combo_df['sub_utm_channel_cat_codes'] == 17] = 1\n",
    "\n",
    "# 2. Paid Search (Brand)\n",
    "combo_df['Is_PSb'] = 0\n",
    "combo_df['Is_PSb'][combo_df['sub_utm_channel_cat_codes'] == 10] = 1\n",
    "\n",
    "# 3. Paid Search (Non-Brand)\n",
    "combo_df['Is_PSnb'] = 0\n",
    "combo_df['Is_PSnb'][combo_df['sub_utm_channel_cat_codes'] == 11] = 1\n",
    "\n",
    "# 4. Organic Search\n",
    "combo_df['Is_OS'] = 0\n",
    "combo_df['Is_OS'][combo_df['sub_utm_channel_cat_codes'] == 4] = 1\n",
    "\n",
    "# 5. Direct\n",
    "combo_df['Is_Direct'] = 0\n",
    "combo_df['Is_Direct'][combo_df['sub_utm_channel_cat_codes'] == 1] = 1\n",
    "\n",
    "# 6. Other\n",
    "above = [17, 10, 11, 4, 1]\n",
    "combo_df['Other_Channel'] = 0\n",
    "combo_df['Other_Channel'][~combo_df['sub_utm_channel_cat_codes'].isin(above)] = 1\n",
    "\n",
    "del combo_df['sub_utm_channel_cat_codes']"
   ]
  },
  {
   "cell_type": "code",
   "execution_count": 53,
   "metadata": {},
   "outputs": [],
   "source": [
    "# encoder_df = pd.DataFrame(encoder.fit_transform(combo_df[['signup_country_name_cat_codes']]))\n",
    "# cols_names = ['country'+str(x) for x in list(encoder_df.columns)]\n",
    "# encoder_df.columns = cols_names\n",
    "# combo_df = combo_df.join(encoder_df)\n",
    "# del combo_df['signup_country_name_cat_codes']\n",
    "\n",
    "# encoder_df = pd.DataFrame(encoder.fit_transform(combo_df[['signup_geo_region_cat_codes']]))\n",
    "# cols_names = ['region'+str(x) for x in list(encoder_df.columns)]\n",
    "# encoder_df.columns = cols_names\n",
    "# combo_df = combo_df.join(encoder_df)\n",
    "# del combo_df['signup_geo_region_cat_codes']\n",
    "\n",
    "### TOO MANY.  Clean This.\n",
    "\n",
    "\n",
    "# 1. Is_USA\n",
    "combo_df['Is_USA'] = 0\n",
    "combo_df['Is_USA'][combo_df['signup_country_name_cat_codes'] == 214] = 1\n",
    "\n",
    "# 2. Is_UK\n",
    "combo_df['Is_UK'] = 0\n",
    "combo_df['Is_UK'][combo_df['signup_country_name_cat_codes'] == 213] = 1\n",
    "\n",
    "# 3. Is_WestEuro\n",
    "weuro = [185, 69, 75, 99, 161, 55, 142]\n",
    "combo_df['Is_WestEuro'] = 0\n",
    "combo_df['Is_WestEuro'][combo_df['signup_country_name_cat_codes'].isin(weuro)] = 1\n",
    "\n",
    "# 4. Is_CA\n",
    "combo_df['Is_CA'] = 0\n",
    "combo_df['Is_CA'][combo_df['signup_country_name_cat_codes'] == 35] = 1\n",
    "\n",
    "# 5. Is_IN\n",
    "combo_df['Is_IN'] = 0\n",
    "combo_df['Is_IN'][combo_df['signup_country_name_cat_codes'] == 92] = 1\n",
    "\n",
    "# 6. Other\n",
    "above = [214, 213, 185, 69, 75, 99, 161, 55, 142, 35, 92]\n",
    "combo_df['Other_Geo'] = 0\n",
    "combo_df['Other_Geo'][~combo_df['signup_country_name_cat_codes'].isin(above)] = 1\n",
    "\n",
    "del combo_df['signup_country_name_cat_codes']\n",
    "del combo_df['signup_geo_region_cat_codes']"
   ]
  },
  {
   "cell_type": "code",
   "execution_count": 41,
   "metadata": {},
   "outputs": [],
   "source": [
    "encoder_df = pd.DataFrame(encoder.fit_transform(combo_df[['signup_platform_cat_codes']]))\n",
    "cols_names = ['platform'+str(x) for x in list(encoder_df.columns)]\n",
    "encoder_df.columns = cols_names\n",
    "combo_df = combo_df.join(encoder_df)\n",
    "del combo_df['signup_platform_cat_codes']"
   ]
  },
  {
   "cell_type": "code",
   "execution_count": 42,
   "metadata": {},
   "outputs": [],
   "source": [
    "combo_df = combo_df.fillna(0.0)"
   ]
  },
  {
   "cell_type": "code",
   "execution_count": 43,
   "metadata": {},
   "outputs": [],
   "source": [
    "del combo_df['sub_utm_source_cat_codes']"
   ]
  },
  {
   "cell_type": "code",
   "execution_count": 44,
   "metadata": {},
   "outputs": [],
   "source": [
    "combo_df['d3_cumm'] =  combo_df['day-1'] + combo_df['day-2'] + combo_df['day-3']\n",
    "combo_df['d7_cumm'] =  combo_df['d3_cumm'] + combo_df['day-4'] + combo_df['day-5'] + combo_df['day-6'] + combo_df['day-7']\n",
    "\n",
    "combo_df['d30_cumm'] =  combo_df['d7_cumm']\n",
    "\n",
    "for x in range(23):\n",
    "    thiscol = 'day-'+str(x+8)\n",
    "    combo_df['d30_cumm'] =  combo_df['d30_cumm'] + combo_df[thiscol]\n"
   ]
  },
  {
   "cell_type": "code",
   "execution_count": 45,
   "metadata": {},
   "outputs": [],
   "source": [
    "col = 'day-1'\n",
    "combo_df['d1_0'] = 0\n",
    "combo_df['d1_0'][combo_df[col] == 0.0] = 1\n",
    "\n",
    "combo_df['d1_1'] = 0\n",
    "combo_df['d1_1'][combo_df[col] > 0.0] = 1\n",
    "combo_df['d1_1'][combo_df[col] > 60.0] = 0\n",
    "\n",
    "combo_df['d1_5'] = 0\n",
    "combo_df['d1_5'][combo_df[col] >= 60.0] = 1\n",
    "combo_df['d1_5'][combo_df[col] > 300.0] = 0\n",
    "\n",
    "combo_df['d1_15'] = 0\n",
    "combo_df['d1_15'][combo_df[col] >= 300.0] = 1\n",
    "combo_df['d1_15'][combo_df[col] > 900.0] = 0\n",
    "\n",
    "combo_df['d1_30'] = 0\n",
    "combo_df['d1_30'][combo_df[col] >= 900.0] = 1\n",
    "combo_df['d1_30'][combo_df[col] > 1800.0] = 0\n",
    "\n",
    "combo_df['d1_60'] = 0\n",
    "combo_df['d1_60'][combo_df[col] >= 1800.0] = 1\n",
    "combo_df['d1_60'][combo_df[col] > 3600.0] = 0\n",
    "\n",
    "combo_df['d1_60'] = 0\n",
    "combo_df['d1_60'][combo_df[col] >= 3600.0] = 1"
   ]
  },
  {
   "cell_type": "code",
   "execution_count": 46,
   "metadata": {},
   "outputs": [],
   "source": [
    "col = 'd3_cumm'\n",
    "combo_df['d3_0'] = 0\n",
    "combo_df['d3_0'][combo_df[col] == 0.0] = 1\n",
    "\n",
    "combo_df['d3_1'] = 0\n",
    "combo_df['d3_1'][combo_df[col] > 0.0] = 1\n",
    "combo_df['d3_1'][combo_df[col] > 60.0] = 0\n",
    "\n",
    "combo_df['d3_5'] = 0\n",
    "combo_df['d3_5'][combo_df[col] >= 60.0] = 1\n",
    "combo_df['d3_5'][combo_df[col] > 300.0] = 0\n",
    "\n",
    "combo_df['d3_15'] = 0\n",
    "combo_df['d3_15'][combo_df[col] >= 300.0] = 1\n",
    "combo_df['d3_15'][combo_df[col] > 900.0] = 0\n",
    "\n",
    "combo_df['d3_30'] = 0\n",
    "combo_df['d3_30'][combo_df[col] >= 900.0] = 1\n",
    "combo_df['d3_30'][combo_df[col] > 1800.0] = 0\n",
    "\n",
    "combo_df['d3_60'] = 0\n",
    "combo_df['d3_60'][combo_df[col] >= 1800.0] = 1\n",
    "combo_df['d3_60'][combo_df[col] > 3600.0] = 0\n",
    "\n",
    "combo_df['d3_60'] = 0\n",
    "combo_df['d3_60'][combo_df[col] >= 3600.0] = 1"
   ]
  },
  {
   "cell_type": "code",
   "execution_count": 47,
   "metadata": {},
   "outputs": [],
   "source": [
    "col = 'd7_cumm'\n",
    "combo_df['d7_0'] = 0\n",
    "combo_df['d7_0'][combo_df[col] == 0.0] = 1\n",
    "\n",
    "combo_df['d7_1'] = 0\n",
    "combo_df['d7_1'][combo_df[col] > 0.0] = 1\n",
    "combo_df['d7_1'][combo_df[col] > 60.0] = 0\n",
    "\n",
    "combo_df['d7_5'] = 0\n",
    "combo_df['d7_5'][combo_df[col] >= 60.0] = 1\n",
    "combo_df['d7_5'][combo_df[col] > 300.0] = 0\n",
    "\n",
    "combo_df['d7_15'] = 0\n",
    "combo_df['d7_15'][combo_df[col] >= 300.0] = 1\n",
    "combo_df['d7_15'][combo_df[col] > 900.0] = 0\n",
    "\n",
    "combo_df['d7_30'] = 0\n",
    "combo_df['d7_30'][combo_df[col] >= 900.0] = 1\n",
    "combo_df['d7_30'][combo_df[col] > 1800.0] = 0\n",
    "\n",
    "combo_df['d7_60'] = 0\n",
    "combo_df['d7_60'][combo_df[col] >= 1800.0] = 1\n",
    "combo_df['d7_60'][combo_df[col] > 3600.0] = 0\n",
    "\n",
    "combo_df['d7_60'] = 0\n",
    "combo_df['d7_60'][combo_df[col] >= 3600.0] = 1"
   ]
  },
  {
   "cell_type": "code",
   "execution_count": 48,
   "metadata": {},
   "outputs": [],
   "source": [
    "col = 'd30_cumm'\n",
    "combo_df['d30_0'] = 0\n",
    "combo_df['d30_0'][combo_df[col] == 0.0] = 1\n",
    "\n",
    "combo_df['d30_1'] = 0\n",
    "combo_df['d30_1'][combo_df[col] > 0.0] = 1\n",
    "combo_df['d30_1'][combo_df[col] > 60.0] = 0\n",
    "\n",
    "combo_df['d30_5'] = 0\n",
    "combo_df['d30_5'][combo_df[col] >= 60.0] = 1\n",
    "combo_df['d30_5'][combo_df[col] > 300.0] = 0\n",
    "\n",
    "combo_df['d30_15'] = 0\n",
    "combo_df['d30_15'][combo_df[col] >= 300.0] = 1\n",
    "combo_df['d30_15'][combo_df[col] > 900.0] = 0\n",
    "\n",
    "combo_df['d30_30'] = 0\n",
    "combo_df['d30_30'][combo_df[col] >= 900.0] = 1\n",
    "combo_df['d30_30'][combo_df[col] > 1800.0] = 0\n",
    "\n",
    "combo_df['d30_60'] = 0\n",
    "combo_df['d30_60'][combo_df[col] >= 1800.0] = 1\n",
    "combo_df['d30_60'][combo_df[col] > 3600.0] = 0\n",
    "\n",
    "combo_df['d30_60'] = 0\n",
    "combo_df['d30_60'][combo_df[col] >= 3600.0] = 1"
   ]
  },
  {
   "cell_type": "code",
   "execution_count": 49,
   "metadata": {},
   "outputs": [],
   "source": [
    "for x in range(31):\n",
    "    del combo_df['day-'+str(x+1)]"
   ]
  },
  {
   "cell_type": "code",
   "execution_count": 54,
   "metadata": {},
   "outputs": [
    {
     "data": {
      "text/plain": [
       "Index(['user_uid', 'create_time', 'success', 'is_cancelled',\n",
       "       'trial_length_offer_cat_codes', 'is_cancel_during_trial',\n",
       "       'comment_volume', 'comment_score', 'discussion_volume',\n",
       "       'discussion_score', 'follow_volume', 'projects_volume',\n",
       "       'projects_score', 'review_volume', 'rating_avg', 'pay_provider0',\n",
       "       'pay_provider1', 'pay_provider2', 'pay_provider3', 'pay_ux0', 'pay_ux1',\n",
       "       'pay_ux2', 'pay_ux3', 'pay_ux4', 'pay_ux5', 'pay_ux6', 'pay_ux7',\n",
       "       'pay_ux8', 'pay_ux9', 'Is_YT', 'Is_PSb', 'Is_PSnb', 'Is_OS',\n",
       "       'Is_Direct', 'Other_Channel', 'Is_USA', 'Is_UK', 'Is_WestEuro', 'Is_CA',\n",
       "       'Is_IN', 'Other_Geo', 'platform0', 'platform1', 'platform2', 'd3_cumm',\n",
       "       'd7_cumm', 'd30_cumm', 'd1_0', 'd1_1', 'd1_5', 'd1_15', 'd1_30',\n",
       "       'd1_60', 'd3_0', 'd3_1', 'd3_5', 'd3_15', 'd3_30', 'd3_60', 'd7_0',\n",
       "       'd7_1', 'd7_5', 'd7_15', 'd7_30', 'd7_60', 'd30_0', 'd30_1', 'd30_5',\n",
       "       'd30_15', 'd30_30', 'd30_60'],\n",
       "      dtype='object')"
      ]
     },
     "execution_count": 54,
     "metadata": {},
     "output_type": "execute_result"
    }
   ],
   "source": [
    "combo_df.columns"
   ]
  },
  {
   "cell_type": "code",
   "execution_count": 55,
   "metadata": {},
   "outputs": [],
   "source": [
    "# split into 7 day v 30 day.\n",
    "month_df = combo_df[combo_df['trial_length_offer_cat_codes'] == 0]\n",
    "week_df = combo_df[combo_df['trial_length_offer_cat_codes'] == 1]"
   ]
  },
  {
   "cell_type": "code",
   "execution_count": 56,
   "metadata": {},
   "outputs": [],
   "source": [
    "# split 7 day into is_cancel v not_cancel\n",
    "week_df_cancel = week_df[week_df['is_cancel_during_trial']==1]\n",
    "week_df_elig = week_df[week_df['is_cancel_during_trial']==0]"
   ]
  },
  {
   "cell_type": "code",
   "execution_count": 57,
   "metadata": {},
   "outputs": [],
   "source": [
    "# split 30 day into is_cancel v not_cancel\n",
    "month_df_cancel = month_df[month_df['is_cancel_during_trial']==1]\n",
    "month_df_elig = month_df[month_df['is_cancel_during_trial']==0]"
   ]
  },
  {
   "cell_type": "code",
   "execution_count": 58,
   "metadata": {},
   "outputs": [],
   "source": [
    "# 1. 7 day + is_cancel = predict 0\n",
    "y_w_c = week_df_cancel[['success']]\n",
    "y_w_c['predict'] = 0"
   ]
  },
  {
   "cell_type": "code",
   "execution_count": 59,
   "metadata": {},
   "outputs": [],
   "source": [
    "# 2. 30 day + is_cancel = predict 0\n",
    "y_m_c = month_df_cancel[['success']]\n",
    "y_m_c['predict'] = 0"
   ]
  },
  {
   "cell_type": "code",
   "execution_count": 62,
   "metadata": {},
   "outputs": [
    {
     "data": {
      "text/plain": [
       "Index(['comment_volume', 'comment_score', 'discussion_volume',\n",
       "       'discussion_score', 'follow_volume', 'projects_volume',\n",
       "       'projects_score', 'review_volume', 'rating_avg', 'pay_provider0',\n",
       "       'pay_provider1', 'pay_provider2', 'pay_provider3', 'pay_ux0', 'pay_ux1',\n",
       "       'pay_ux2', 'pay_ux3', 'pay_ux4', 'pay_ux5', 'pay_ux6', 'pay_ux7',\n",
       "       'pay_ux8', 'pay_ux9', 'Is_YT', 'Is_PSb', 'Is_PSnb', 'Is_OS',\n",
       "       'Is_Direct', 'Other_Channel', 'Is_USA', 'Is_UK', 'Is_WestEuro', 'Is_CA',\n",
       "       'Is_IN', 'Other_Geo', 'platform0', 'platform1', 'platform2', 'd3_cumm',\n",
       "       'd7_cumm', 'd30_cumm', 'd1_0', 'd1_1', 'd1_5', 'd1_15', 'd1_30',\n",
       "       'd1_60', 'd3_0', 'd3_1', 'd3_5', 'd3_15', 'd3_30', 'd3_60', 'd7_0',\n",
       "       'd7_1', 'd7_5', 'd7_15', 'd7_30', 'd7_60', 'd30_0', 'd30_1', 'd30_5',\n",
       "       'd30_15', 'd30_30', 'd30_60'],\n",
       "      dtype='object')"
      ]
     },
     "execution_count": 62,
     "metadata": {},
     "output_type": "execute_result"
    }
   ],
   "source": [
    "week_df_elig.columns[6:]"
   ]
  },
  {
   "cell_type": "code",
   "execution_count": 63,
   "metadata": {},
   "outputs": [],
   "source": [
    "# 3. 7 day ML\n",
    "X = week_df_elig[list(week_df_elig.columns)[6:]]\n",
    "y = week_df_elig['success']"
   ]
  },
  {
   "cell_type": "code",
   "execution_count": 64,
   "metadata": {},
   "outputs": [],
   "source": [
    "X_train, X_test, y_train, y_test = train_test_split(X, y, test_size=0.2)"
   ]
  },
  {
   "cell_type": "code",
   "execution_count": 65,
   "metadata": {},
   "outputs": [
    {
     "name": "stdout",
     "output_type": "stream",
     "text": [
      "[[5078 2606]\n",
      " [3032 3525]] 0.6041008356154765\n"
     ]
    }
   ],
   "source": [
    "dtclf = DecisionTreeClassifier(max_depth=6).fit(X_train, y_train)\n",
    "y_pred = dtclf.predict(X_test)\n",
    "cm_dt = confusion_matrix(y_test, y_pred)\n",
    "print(cm_dt, dtclf.score(X_test, y_test))"
   ]
  },
  {
   "cell_type": "code",
   "execution_count": 66,
   "metadata": {},
   "outputs": [],
   "source": [
    "y_w_e = pd.DataFrame({'success': y_test,  'predict' : y_pred})"
   ]
  },
  {
   "cell_type": "code",
   "execution_count": 67,
   "metadata": {},
   "outputs": [],
   "source": [
    "# 4. 30 day ML\n",
    "y = month_df_elig['success']\n",
    "X = month_df_elig[list(month_df_elig.columns)[6:]]"
   ]
  },
  {
   "cell_type": "code",
   "execution_count": 69,
   "metadata": {},
   "outputs": [
    {
     "name": "stdout",
     "output_type": "stream",
     "text": [
      "[[22877  2946]\n",
      " [11867  3916]] 0.6439696197663799\n"
     ]
    }
   ],
   "source": [
    "X_train, X_test, y_train, y_test = train_test_split(X, y, test_size=0.2)\n",
    "dtclf = DecisionTreeClassifier(max_depth=6).fit(X_train, y_train)\n",
    "y_pred = dtclf.predict(X_test)\n",
    "cm_dt = confusion_matrix(y_test, y_pred)\n",
    "print(cm_dt, dtclf.score(X_test, y_test))"
   ]
  },
  {
   "cell_type": "code",
   "execution_count": 70,
   "metadata": {},
   "outputs": [],
   "source": [
    "y_m_e = pd.DataFrame({'success': y_test,  'predict' : y_pred})"
   ]
  },
  {
   "cell_type": "code",
   "execution_count": 71,
   "metadata": {},
   "outputs": [],
   "source": [
    "# 5. Combine\n",
    "y_df = y_w_c.append(y_m_c)\n",
    "y_df = y_df.append(y_w_e)\n",
    "y_df = y_df.append(y_m_e)"
   ]
  },
  {
   "cell_type": "code",
   "execution_count": null,
   "metadata": {},
   "outputs": [],
   "source": []
  },
  {
   "cell_type": "code",
   "execution_count": 72,
   "metadata": {},
   "outputs": [
    {
     "name": "stdout",
     "output_type": "stream",
     "text": [
      "Accuracy: 0.918\n",
      "Precision: 0.573\n",
      "Recall: 0.333\n",
      "F1 Score: 0.421\n"
     ]
    }
   ],
   "source": [
    "print('Accuracy: %.3f' % accuracy_score(y_df['success'], y_df['predict']))\n",
    "print('Precision: %.3f' % precision_score(y_df['success'], y_df['predict']))\n",
    "print('Recall: %.3f' % recall_score(y_df['success'], y_df['predict']))\n",
    "print('F1 Score: %.3f' % f1_score(y_df['success'], y_df['predict']))"
   ]
  },
  {
   "cell_type": "code",
   "execution_count": 73,
   "metadata": {},
   "outputs": [
    {
     "data": {
      "text/plain": [
       "array([[222086,   5552],\n",
       "       [ 14899,   7441]])"
      ]
     },
     "execution_count": 73,
     "metadata": {},
     "output_type": "execute_result"
    }
   ],
   "source": [
    "cm_overall = confusion_matrix(y_df['success'], y_df['predict'])\n",
    "cm_overall"
   ]
  },
  {
   "cell_type": "code",
   "execution_count": null,
   "metadata": {},
   "outputs": [],
   "source": []
  },
  {
   "cell_type": "code",
   "execution_count": 81,
   "metadata": {},
   "outputs": [
    {
     "name": "stdout",
     "output_type": "stream",
     "text": [
      "41606 15783 0.6206556746623083\n"
     ]
    }
   ],
   "source": [
    "print(len(y_test), y_test.sum(), 1 - y_test.sum() / len(y_test))"
   ]
  },
  {
   "cell_type": "code",
   "execution_count": 83,
   "metadata": {},
   "outputs": [
    {
     "name": "stdout",
     "output_type": "stream",
     "text": [
      "[[21843  3980]\n",
      " [12689  3094]] 0.5993606691342594\n"
     ]
    }
   ],
   "source": [
    "from sklearn.neighbors import KNeighborsClassifier\n",
    "neigh = KNeighborsClassifier(n_neighbors=8)\n",
    "neigh.fit(X_train, y_train)\n",
    "y_pred = neigh.predict(X_test)\n",
    "cm_dt = confusion_matrix(y_test, y_pred)\n",
    "print(cm_dt, neigh.score(X_test, y_test))"
   ]
  },
  {
   "cell_type": "code",
   "execution_count": null,
   "metadata": {},
   "outputs": [],
   "source": []
  },
  {
   "cell_type": "code",
   "execution_count": 84,
   "metadata": {},
   "outputs": [
    {
     "name": "stdout",
     "output_type": "stream",
     "text": [
      "[[24748  1075]\n",
      " [13923  1860]] 0.5993606691342594\n"
     ]
    }
   ],
   "source": [
    "from sklearn.ensemble import RandomForestClassifier\n",
    "rf = RandomForestClassifier(max_depth=6)\n",
    "rf.fit(X_train, y_train)\n",
    "\n",
    "y_pred = rf.predict(X_test)\n",
    "cm_dt = confusion_matrix(y_test, y_pred)\n",
    "print(cm_dt, neigh.score(X_test, y_test))\n"
   ]
  },
  {
   "cell_type": "code",
   "execution_count": null,
   "metadata": {},
   "outputs": [],
   "source": []
  }
 ],
 "metadata": {
  "kernelspec": {
   "display_name": "Python 3",
   "language": "python",
   "name": "python3"
  },
  "language_info": {
   "codemirror_mode": {
    "name": "ipython",
    "version": 3
   },
   "file_extension": ".py",
   "mimetype": "text/x-python",
   "name": "python",
   "nbconvert_exporter": "python",
   "pygments_lexer": "ipython3",
   "version": "3.8.5"
  }
 },
 "nbformat": 4,
 "nbformat_minor": 4
}
