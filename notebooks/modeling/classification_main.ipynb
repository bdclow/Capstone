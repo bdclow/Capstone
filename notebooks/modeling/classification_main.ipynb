{
 "cells": [
  {
   "cell_type": "code",
   "execution_count": 1,
   "metadata": {
    "collapsed": true
   },
   "outputs": [],
   "source": [
    "import pandas as pd\n",
    "import numpy as np\n",
    "\n",
    "### for data preprocessing\n",
    "from sklearn.preprocessing import StandardScaler\n",
    "from collections import Counter\n",
    "from imblearn.over_sampling import RandomOverSampler\n",
    "from sklearn.preprocessing import OneHotEncoder\n",
    "\n",
    "### for classification\n",
    "from sklearn.model_selection import train_test_split\n",
    "from sklearn.linear_model import LogisticRegression\n",
    "from sklearn import metrics\n",
    "\n",
    "from sklearn.tree import DecisionTreeClassifier\n",
    "from sklearn import tree\n",
    "\n",
    "import matplotlib.pyplot as plt\n",
    "import seaborn as sns\n",
    "%matplotlib inline"
   ]
  },
  {
   "cell_type": "code",
   "execution_count": 2,
   "metadata": {
    "collapsed": true
   },
   "outputs": [],
   "source": [
    "### reading all the necessary data\n",
    "\n",
    "df = pd.read_csv('skillshare_combined.csv')\n",
    "\n",
    "pmt_ux = pd.read_csv('lookup_payment_ux.csv', usecols = ['payment_ux', 'payment_ux_cat_codes'])\n",
    "trial_info = pd.read_csv('lookup_trial_length_offer.csv', usecols = ['trial_length_offer', \n",
    "                                                                     'trial_length_offer_cat_codes'])\n",
    "sub_channel = pd.read_csv('lookup_sub_utm_channel.csv', usecols = ['sub_utm_channel', 'sub_utm_channel_cat_codes'])\n",
    "\n",
    "join1 = pd.merge(df, pmt_ux, on = [\"payment_ux_cat_codes\"], how = \"left\")\n",
    "join2 = pd.merge(join1, trial_info, on = [\"trial_length_offer_cat_codes\"], how = \"left\")\n",
    "join3 = pd.merge(join2, sub_channel, on = [\"sub_utm_channel_cat_codes\"], how = \"left\")"
   ]
  },
  {
   "cell_type": "code",
   "execution_count": 3,
   "metadata": {},
   "outputs": [
    {
     "data": {
      "text/plain": [
       "Index(['user_uid', 'create_time', 'success', 'cancellation_time',\n",
       "       'payment_provider_cat_codes', 'payment_ux_cat_codes',\n",
       "       'trial_length_offer_cat_codes', 'sub_utm_channel_cat_codes',\n",
       "       'sub_utm_source_cat_codes', 'trial_start_day', 'trial_end_day',\n",
       "       'is_cancel_during_trial', 'day-1', 'day-2', 'day-3', 'day-4', 'day-5',\n",
       "       'day-6', 'day-7', 'day-8', 'day-9', 'day-10', 'day-11', 'day-12',\n",
       "       'day-13', 'day-14', 'day-15', 'day-16', 'day-17', 'day-18', 'day-19',\n",
       "       'day-20', 'day-21', 'day-22', 'day-23', 'day-24', 'day-25', 'day-26',\n",
       "       'day-27', 'day-28', 'day-29', 'day-30', 'day-31', 'comment_volume',\n",
       "       'comment_score', 'discussion_volume', 'discussion_score',\n",
       "       'follow_volume', 'projects_volume', 'projects_score', 'review_volume',\n",
       "       'rating_avg', 'payment_ux', 'trial_length_offer', 'sub_utm_channel'],\n",
       "      dtype='object')"
      ]
     },
     "execution_count": 3,
     "metadata": {},
     "output_type": "execute_result"
    }
   ],
   "source": [
    "join3.keys()"
   ]
  },
  {
   "cell_type": "code",
   "execution_count": 4,
   "metadata": {
    "collapsed": true
   },
   "outputs": [],
   "source": [
    "### main dataset to be used for classification\n",
    "\n",
    "df_main = join3.loc[join3[\"payment_ux_cat_codes\"]>=0].loc[:, ['success', 'day-1',\n",
    "       'day-2', 'day-3', 'day-4', 'day-5','day-6', 'day-7', 'day-8', 'day-9','day-10', 'day-11', 'day-12', 'day-13', 'day-14', 'day-15', 'day-16', \n",
    "        'day-17', 'day-18', 'day-19', 'day-20', 'day-21', 'day-22', 'day-23','day-24','day-25', 'day-26', 'day-27','day-28', 'day-29', 'day-30','day-31', \n",
    "                                                              'trial_length_offer', 'sub_utm_channel']]"
   ]
  },
  {
   "cell_type": "code",
   "execution_count": 5,
   "metadata": {},
   "outputs": [
    {
     "data": {
      "text/plain": [
       "(413524, 34)"
      ]
     },
     "execution_count": 5,
     "metadata": {},
     "output_type": "execute_result"
    }
   ],
   "source": [
    "df_main.shape"
   ]
  },
  {
   "cell_type": "code",
   "execution_count": 6,
   "metadata": {},
   "outputs": [
    {
     "data": {
      "text/html": [
       "<div>\n",
       "<style scoped>\n",
       "    .dataframe tbody tr th:only-of-type {\n",
       "        vertical-align: middle;\n",
       "    }\n",
       "\n",
       "    .dataframe tbody tr th {\n",
       "        vertical-align: top;\n",
       "    }\n",
       "\n",
       "    .dataframe thead th {\n",
       "        text-align: right;\n",
       "    }\n",
       "</style>\n",
       "<table border=\"1\" class=\"dataframe\">\n",
       "  <thead>\n",
       "    <tr style=\"text-align: right;\">\n",
       "      <th></th>\n",
       "      <th>success</th>\n",
       "      <th>day-1</th>\n",
       "      <th>day-2</th>\n",
       "      <th>day-3</th>\n",
       "      <th>day-4</th>\n",
       "      <th>day-5</th>\n",
       "      <th>day-6</th>\n",
       "      <th>day-7</th>\n",
       "      <th>day-8</th>\n",
       "      <th>day-9</th>\n",
       "      <th>...</th>\n",
       "      <th>day-24</th>\n",
       "      <th>day-25</th>\n",
       "      <th>day-26</th>\n",
       "      <th>day-27</th>\n",
       "      <th>day-28</th>\n",
       "      <th>day-29</th>\n",
       "      <th>day-30</th>\n",
       "      <th>day-31</th>\n",
       "      <th>trial_length_offer</th>\n",
       "      <th>sub_utm_channel</th>\n",
       "    </tr>\n",
       "  </thead>\n",
       "  <tbody>\n",
       "    <tr>\n",
       "      <th>0</th>\n",
       "      <td>0</td>\n",
       "      <td>60.0</td>\n",
       "      <td>0.0</td>\n",
       "      <td>0.0</td>\n",
       "      <td>0.0</td>\n",
       "      <td>0.0</td>\n",
       "      <td>0.0</td>\n",
       "      <td>0.0</td>\n",
       "      <td>0.0</td>\n",
       "      <td>0.0</td>\n",
       "      <td>...</td>\n",
       "      <td>0.0</td>\n",
       "      <td>0.0</td>\n",
       "      <td>0.0</td>\n",
       "      <td>0.0</td>\n",
       "      <td>0.0</td>\n",
       "      <td>0.0</td>\n",
       "      <td>0.0</td>\n",
       "      <td>0.0</td>\n",
       "      <td>One Month</td>\n",
       "      <td>Paid Search (Brand)</td>\n",
       "    </tr>\n",
       "    <tr>\n",
       "      <th>2</th>\n",
       "      <td>1</td>\n",
       "      <td>347.0</td>\n",
       "      <td>0.0</td>\n",
       "      <td>0.0</td>\n",
       "      <td>0.0</td>\n",
       "      <td>0.0</td>\n",
       "      <td>0.0</td>\n",
       "      <td>0.0</td>\n",
       "      <td>0.0</td>\n",
       "      <td>0.0</td>\n",
       "      <td>...</td>\n",
       "      <td>0.0</td>\n",
       "      <td>0.0</td>\n",
       "      <td>0.0</td>\n",
       "      <td>0.0</td>\n",
       "      <td>0.0</td>\n",
       "      <td>0.0</td>\n",
       "      <td>0.0</td>\n",
       "      <td>0.0</td>\n",
       "      <td>One Month</td>\n",
       "      <td>Paid Search (Brand)</td>\n",
       "    </tr>\n",
       "    <tr>\n",
       "      <th>3</th>\n",
       "      <td>0</td>\n",
       "      <td>1211.0</td>\n",
       "      <td>266.0</td>\n",
       "      <td>0.0</td>\n",
       "      <td>0.0</td>\n",
       "      <td>0.0</td>\n",
       "      <td>0.0</td>\n",
       "      <td>0.0</td>\n",
       "      <td>0.0</td>\n",
       "      <td>0.0</td>\n",
       "      <td>...</td>\n",
       "      <td>0.0</td>\n",
       "      <td>0.0</td>\n",
       "      <td>0.0</td>\n",
       "      <td>0.0</td>\n",
       "      <td>0.0</td>\n",
       "      <td>0.0</td>\n",
       "      <td>0.0</td>\n",
       "      <td>0.0</td>\n",
       "      <td>One Month</td>\n",
       "      <td>Teacher Referral</td>\n",
       "    </tr>\n",
       "    <tr>\n",
       "      <th>4</th>\n",
       "      <td>1</td>\n",
       "      <td>0.0</td>\n",
       "      <td>0.0</td>\n",
       "      <td>0.0</td>\n",
       "      <td>0.0</td>\n",
       "      <td>0.0</td>\n",
       "      <td>0.0</td>\n",
       "      <td>0.0</td>\n",
       "      <td>0.0</td>\n",
       "      <td>0.0</td>\n",
       "      <td>...</td>\n",
       "      <td>0.0</td>\n",
       "      <td>0.0</td>\n",
       "      <td>0.0</td>\n",
       "      <td>0.0</td>\n",
       "      <td>0.0</td>\n",
       "      <td>0.0</td>\n",
       "      <td>0.0</td>\n",
       "      <td>0.0</td>\n",
       "      <td>One Month</td>\n",
       "      <td>Teacher Referral</td>\n",
       "    </tr>\n",
       "    <tr>\n",
       "      <th>5</th>\n",
       "      <td>1</td>\n",
       "      <td>59.0</td>\n",
       "      <td>0.0</td>\n",
       "      <td>0.0</td>\n",
       "      <td>0.0</td>\n",
       "      <td>0.0</td>\n",
       "      <td>0.0</td>\n",
       "      <td>0.0</td>\n",
       "      <td>0.0</td>\n",
       "      <td>0.0</td>\n",
       "      <td>...</td>\n",
       "      <td>0.0</td>\n",
       "      <td>0.0</td>\n",
       "      <td>0.0</td>\n",
       "      <td>0.0</td>\n",
       "      <td>0.0</td>\n",
       "      <td>0.0</td>\n",
       "      <td>0.0</td>\n",
       "      <td>0.0</td>\n",
       "      <td>One Month</td>\n",
       "      <td>Paid Search (Brand)</td>\n",
       "    </tr>\n",
       "  </tbody>\n",
       "</table>\n",
       "<p>5 rows × 34 columns</p>\n",
       "</div>"
      ],
      "text/plain": [
       "   success   day-1  day-2  day-3  day-4  day-5  day-6  day-7  day-8  day-9  \\\n",
       "0        0    60.0    0.0    0.0    0.0    0.0    0.0    0.0    0.0    0.0   \n",
       "2        1   347.0    0.0    0.0    0.0    0.0    0.0    0.0    0.0    0.0   \n",
       "3        0  1211.0  266.0    0.0    0.0    0.0    0.0    0.0    0.0    0.0   \n",
       "4        1     0.0    0.0    0.0    0.0    0.0    0.0    0.0    0.0    0.0   \n",
       "5        1    59.0    0.0    0.0    0.0    0.0    0.0    0.0    0.0    0.0   \n",
       "\n",
       "   ...  day-24  day-25  day-26  day-27  day-28  day-29  day-30  day-31  \\\n",
       "0  ...     0.0     0.0     0.0     0.0     0.0     0.0     0.0     0.0   \n",
       "2  ...     0.0     0.0     0.0     0.0     0.0     0.0     0.0     0.0   \n",
       "3  ...     0.0     0.0     0.0     0.0     0.0     0.0     0.0     0.0   \n",
       "4  ...     0.0     0.0     0.0     0.0     0.0     0.0     0.0     0.0   \n",
       "5  ...     0.0     0.0     0.0     0.0     0.0     0.0     0.0     0.0   \n",
       "\n",
       "   trial_length_offer      sub_utm_channel  \n",
       "0           One Month  Paid Search (Brand)  \n",
       "2           One Month  Paid Search (Brand)  \n",
       "3           One Month     Teacher Referral  \n",
       "4           One Month     Teacher Referral  \n",
       "5           One Month  Paid Search (Brand)  \n",
       "\n",
       "[5 rows x 34 columns]"
      ]
     },
     "execution_count": 6,
     "metadata": {},
     "output_type": "execute_result"
    }
   ],
   "source": [
    "df_main.head()"
   ]
  },
  {
   "cell_type": "code",
   "execution_count": 7,
   "metadata": {},
   "outputs": [
    {
     "data": {
      "text/plain": [
       "success               0\n",
       "day-1                 0\n",
       "day-2                 0\n",
       "day-3                 0\n",
       "day-4                 0\n",
       "day-5                 0\n",
       "day-6                 0\n",
       "day-7                 0\n",
       "day-8                 0\n",
       "day-9                 0\n",
       "day-10                0\n",
       "day-11                0\n",
       "day-12                0\n",
       "day-13                0\n",
       "day-14                0\n",
       "day-15                0\n",
       "day-16                0\n",
       "day-17                0\n",
       "day-18                0\n",
       "day-19                0\n",
       "day-20                0\n",
       "day-21                0\n",
       "day-22                0\n",
       "day-23                0\n",
       "day-24                0\n",
       "day-25                0\n",
       "day-26                0\n",
       "day-27                0\n",
       "day-28                0\n",
       "day-29                0\n",
       "day-30                0\n",
       "day-31                0\n",
       "trial_length_offer    0\n",
       "sub_utm_channel       0\n",
       "dtype: int64"
      ]
     },
     "execution_count": 7,
     "metadata": {},
     "output_type": "execute_result"
    }
   ],
   "source": [
    "### checking for any missing data\n",
    "\n",
    "df_main.isna().sum()"
   ]
  },
  {
   "cell_type": "markdown",
   "metadata": {},
   "source": [
    "### Preparing the data"
   ]
  },
  {
   "cell_type": "markdown",
   "metadata": {},
   "source": [
    "First we'll try to run Logistic Regression for classification. As we have categorical features in the data, we need to transform those features into dummy variables. That way the Logistic Regression will work."
   ]
  },
  {
   "cell_type": "code",
   "execution_count": 8,
   "metadata": {
    "collapsed": true
   },
   "outputs": [],
   "source": [
    "#### one hot encoding, to get dummy variables for categorical ones\n",
    "\n",
    "dummies = pd.get_dummies(df_main[['trial_length_offer', 'sub_utm_channel']]).drop(['trial_length_offer_One Week',\n",
    "                                                                                  'sub_utm_channel_Other'],\n",
    "                                                                                 axis = 1)\n",
    "df_main = df_main.join(dummies).drop(['trial_length_offer', 'sub_utm_channel'], axis =1)"
   ]
  },
  {
   "cell_type": "code",
   "execution_count": 9,
   "metadata": {
    "collapsed": true
   },
   "outputs": [],
   "source": [
    "df_main.loc[:, 'success'] = df_main.loc[:, 'success'].astype(int)"
   ]
  },
  {
   "cell_type": "code",
   "execution_count": 10,
   "metadata": {},
   "outputs": [
    {
     "name": "stdout",
     "output_type": "stream",
     "text": [
      "<class 'pandas.core.frame.DataFrame'>\n",
      "Int64Index: 413524 entries, 0 to 475447\n",
      "Data columns (total 51 columns):\n",
      " #   Column                                   Non-Null Count   Dtype  \n",
      "---  ------                                   --------------   -----  \n",
      " 0   success                                  413524 non-null  int64  \n",
      " 1   day-1                                    413524 non-null  float64\n",
      " 2   day-2                                    413524 non-null  float64\n",
      " 3   day-3                                    413524 non-null  float64\n",
      " 4   day-4                                    413524 non-null  float64\n",
      " 5   day-5                                    413524 non-null  float64\n",
      " 6   day-6                                    413524 non-null  float64\n",
      " 7   day-7                                    413524 non-null  float64\n",
      " 8   day-8                                    413524 non-null  float64\n",
      " 9   day-9                                    413524 non-null  float64\n",
      " 10  day-10                                   413524 non-null  float64\n",
      " 11  day-11                                   413524 non-null  float64\n",
      " 12  day-12                                   413524 non-null  float64\n",
      " 13  day-13                                   413524 non-null  float64\n",
      " 14  day-14                                   413524 non-null  float64\n",
      " 15  day-15                                   413524 non-null  float64\n",
      " 16  day-16                                   413524 non-null  float64\n",
      " 17  day-17                                   413524 non-null  float64\n",
      " 18  day-18                                   413524 non-null  float64\n",
      " 19  day-19                                   413524 non-null  float64\n",
      " 20  day-20                                   413524 non-null  float64\n",
      " 21  day-21                                   413524 non-null  float64\n",
      " 22  day-22                                   413524 non-null  float64\n",
      " 23  day-23                                   413524 non-null  float64\n",
      " 24  day-24                                   413524 non-null  float64\n",
      " 25  day-25                                   413524 non-null  float64\n",
      " 26  day-26                                   413524 non-null  float64\n",
      " 27  day-27                                   413524 non-null  float64\n",
      " 28  day-28                                   413524 non-null  float64\n",
      " 29  day-29                                   413524 non-null  float64\n",
      " 30  day-30                                   413524 non-null  float64\n",
      " 31  day-31                                   413524 non-null  float64\n",
      " 32  trial_length_offer_One Month             413524 non-null  uint8  \n",
      " 33  sub_utm_channel_Affiliate Referral       413524 non-null  uint8  \n",
      " 34  sub_utm_channel_Direct                   413524 non-null  uint8  \n",
      " 35  sub_utm_channel_Email                    413524 non-null  uint8  \n",
      " 36  sub_utm_channel_Missing                  413524 non-null  uint8  \n",
      " 37  sub_utm_channel_Organic Search           413524 non-null  uint8  \n",
      " 38  sub_utm_channel_Organic Social           413524 non-null  uint8  \n",
      " 39  sub_utm_channel_Paid FB                  413524 non-null  uint8  \n",
      " 40  sub_utm_channel_Paid Insta Ambassadors   413524 non-null  uint8  \n",
      " 41  sub_utm_channel_Paid Insta Stories       413524 non-null  uint8  \n",
      " 42  sub_utm_channel_Paid Search (Brand)      413524 non-null  uint8  \n",
      " 43  sub_utm_channel_Paid Search (Non-brand)  413524 non-null  uint8  \n",
      " 44  sub_utm_channel_Podcast                  413524 non-null  uint8  \n",
      " 45  sub_utm_channel_Sponsored Newsletter     413524 non-null  uint8  \n",
      " 46  sub_utm_channel_Sponsored Posts          413524 non-null  uint8  \n",
      " 47  sub_utm_channel_Student Referral         413524 non-null  uint8  \n",
      " 48  sub_utm_channel_Teacher Referral         413524 non-null  uint8  \n",
      " 49  sub_utm_channel_Youtube Influencer       413524 non-null  uint8  \n",
      " 50  sub_utm_channel_Youtube Pre-roll         413524 non-null  uint8  \n",
      "dtypes: float64(31), int64(1), uint8(19)\n",
      "memory usage: 131.6 MB\n"
     ]
    }
   ],
   "source": [
    "df_main.info()"
   ]
  },
  {
   "cell_type": "code",
   "execution_count": 27,
   "metadata": {
    "collapsed": true
   },
   "outputs": [],
   "source": [
    "### Scaling the data for continuous variables, so that the algorithm will work more efficiently\n",
    "\n",
    "scaled_data = df_main.copy()\n",
    "scaled_array = StandardScaler().fit_transform(df_main.iloc[:, 1:31])\n",
    "scaled_data.iloc[:, 1:31] = scaled_array\n",
    "\n",
    "\n",
    "### defining X, y\n",
    "features = scaled_data.keys()[1:]\n",
    "X = scaled_data[features]\n",
    "y = scaled_data['success']"
   ]
  },
  {
   "cell_type": "code",
   "execution_count": 28,
   "metadata": {},
   "outputs": [
    {
     "data": {
      "text/html": [
       "<div>\n",
       "<style scoped>\n",
       "    .dataframe tbody tr th:only-of-type {\n",
       "        vertical-align: middle;\n",
       "    }\n",
       "\n",
       "    .dataframe tbody tr th {\n",
       "        vertical-align: top;\n",
       "    }\n",
       "\n",
       "    .dataframe thead th {\n",
       "        text-align: right;\n",
       "    }\n",
       "</style>\n",
       "<table border=\"1\" class=\"dataframe\">\n",
       "  <thead>\n",
       "    <tr style=\"text-align: right;\">\n",
       "      <th></th>\n",
       "      <th>day-1</th>\n",
       "      <th>day-2</th>\n",
       "      <th>day-3</th>\n",
       "      <th>day-4</th>\n",
       "      <th>day-5</th>\n",
       "      <th>day-6</th>\n",
       "      <th>day-7</th>\n",
       "      <th>day-8</th>\n",
       "      <th>day-9</th>\n",
       "      <th>day-10</th>\n",
       "      <th>...</th>\n",
       "      <th>sub_utm_channel_Paid Insta Stories</th>\n",
       "      <th>sub_utm_channel_Paid Search (Brand)</th>\n",
       "      <th>sub_utm_channel_Paid Search (Non-brand)</th>\n",
       "      <th>sub_utm_channel_Podcast</th>\n",
       "      <th>sub_utm_channel_Sponsored Newsletter</th>\n",
       "      <th>sub_utm_channel_Sponsored Posts</th>\n",
       "      <th>sub_utm_channel_Student Referral</th>\n",
       "      <th>sub_utm_channel_Teacher Referral</th>\n",
       "      <th>sub_utm_channel_Youtube Influencer</th>\n",
       "      <th>sub_utm_channel_Youtube Pre-roll</th>\n",
       "    </tr>\n",
       "  </thead>\n",
       "  <tbody>\n",
       "    <tr>\n",
       "      <th>0</th>\n",
       "      <td>-0.460150</td>\n",
       "      <td>-0.318674</td>\n",
       "      <td>-0.232646</td>\n",
       "      <td>-0.204933</td>\n",
       "      <td>-0.188747</td>\n",
       "      <td>-0.179041</td>\n",
       "      <td>-0.167738</td>\n",
       "      <td>-0.142773</td>\n",
       "      <td>-0.131375</td>\n",
       "      <td>-0.121264</td>\n",
       "      <td>...</td>\n",
       "      <td>0</td>\n",
       "      <td>1</td>\n",
       "      <td>0</td>\n",
       "      <td>0</td>\n",
       "      <td>0</td>\n",
       "      <td>0</td>\n",
       "      <td>0</td>\n",
       "      <td>0</td>\n",
       "      <td>0</td>\n",
       "      <td>0</td>\n",
       "    </tr>\n",
       "    <tr>\n",
       "      <th>2</th>\n",
       "      <td>-0.351146</td>\n",
       "      <td>-0.318674</td>\n",
       "      <td>-0.232646</td>\n",
       "      <td>-0.204933</td>\n",
       "      <td>-0.188747</td>\n",
       "      <td>-0.179041</td>\n",
       "      <td>-0.167738</td>\n",
       "      <td>-0.142773</td>\n",
       "      <td>-0.131375</td>\n",
       "      <td>-0.121264</td>\n",
       "      <td>...</td>\n",
       "      <td>0</td>\n",
       "      <td>1</td>\n",
       "      <td>0</td>\n",
       "      <td>0</td>\n",
       "      <td>0</td>\n",
       "      <td>0</td>\n",
       "      <td>0</td>\n",
       "      <td>0</td>\n",
       "      <td>0</td>\n",
       "      <td>0</td>\n",
       "    </tr>\n",
       "    <tr>\n",
       "      <th>3</th>\n",
       "      <td>-0.022995</td>\n",
       "      <td>-0.188356</td>\n",
       "      <td>-0.232646</td>\n",
       "      <td>-0.204933</td>\n",
       "      <td>-0.188747</td>\n",
       "      <td>-0.179041</td>\n",
       "      <td>-0.167738</td>\n",
       "      <td>-0.142773</td>\n",
       "      <td>-0.131375</td>\n",
       "      <td>-0.121264</td>\n",
       "      <td>...</td>\n",
       "      <td>0</td>\n",
       "      <td>0</td>\n",
       "      <td>0</td>\n",
       "      <td>0</td>\n",
       "      <td>0</td>\n",
       "      <td>0</td>\n",
       "      <td>0</td>\n",
       "      <td>1</td>\n",
       "      <td>0</td>\n",
       "      <td>0</td>\n",
       "    </tr>\n",
       "    <tr>\n",
       "      <th>4</th>\n",
       "      <td>-0.482938</td>\n",
       "      <td>-0.318674</td>\n",
       "      <td>-0.232646</td>\n",
       "      <td>-0.204933</td>\n",
       "      <td>-0.188747</td>\n",
       "      <td>-0.179041</td>\n",
       "      <td>-0.167738</td>\n",
       "      <td>-0.142773</td>\n",
       "      <td>-0.131375</td>\n",
       "      <td>-0.121264</td>\n",
       "      <td>...</td>\n",
       "      <td>0</td>\n",
       "      <td>0</td>\n",
       "      <td>0</td>\n",
       "      <td>0</td>\n",
       "      <td>0</td>\n",
       "      <td>0</td>\n",
       "      <td>0</td>\n",
       "      <td>1</td>\n",
       "      <td>0</td>\n",
       "      <td>0</td>\n",
       "    </tr>\n",
       "    <tr>\n",
       "      <th>5</th>\n",
       "      <td>-0.460529</td>\n",
       "      <td>-0.318674</td>\n",
       "      <td>-0.232646</td>\n",
       "      <td>-0.204933</td>\n",
       "      <td>-0.188747</td>\n",
       "      <td>-0.179041</td>\n",
       "      <td>-0.167738</td>\n",
       "      <td>-0.142773</td>\n",
       "      <td>-0.131375</td>\n",
       "      <td>-0.121264</td>\n",
       "      <td>...</td>\n",
       "      <td>0</td>\n",
       "      <td>1</td>\n",
       "      <td>0</td>\n",
       "      <td>0</td>\n",
       "      <td>0</td>\n",
       "      <td>0</td>\n",
       "      <td>0</td>\n",
       "      <td>0</td>\n",
       "      <td>0</td>\n",
       "      <td>0</td>\n",
       "    </tr>\n",
       "  </tbody>\n",
       "</table>\n",
       "<p>5 rows × 50 columns</p>\n",
       "</div>"
      ],
      "text/plain": [
       "      day-1     day-2     day-3     day-4     day-5     day-6     day-7  \\\n",
       "0 -0.460150 -0.318674 -0.232646 -0.204933 -0.188747 -0.179041 -0.167738   \n",
       "2 -0.351146 -0.318674 -0.232646 -0.204933 -0.188747 -0.179041 -0.167738   \n",
       "3 -0.022995 -0.188356 -0.232646 -0.204933 -0.188747 -0.179041 -0.167738   \n",
       "4 -0.482938 -0.318674 -0.232646 -0.204933 -0.188747 -0.179041 -0.167738   \n",
       "5 -0.460529 -0.318674 -0.232646 -0.204933 -0.188747 -0.179041 -0.167738   \n",
       "\n",
       "      day-8     day-9    day-10  ...  sub_utm_channel_Paid Insta Stories  \\\n",
       "0 -0.142773 -0.131375 -0.121264  ...                                   0   \n",
       "2 -0.142773 -0.131375 -0.121264  ...                                   0   \n",
       "3 -0.142773 -0.131375 -0.121264  ...                                   0   \n",
       "4 -0.142773 -0.131375 -0.121264  ...                                   0   \n",
       "5 -0.142773 -0.131375 -0.121264  ...                                   0   \n",
       "\n",
       "   sub_utm_channel_Paid Search (Brand)  \\\n",
       "0                                    1   \n",
       "2                                    1   \n",
       "3                                    0   \n",
       "4                                    0   \n",
       "5                                    1   \n",
       "\n",
       "   sub_utm_channel_Paid Search (Non-brand)  sub_utm_channel_Podcast  \\\n",
       "0                                        0                        0   \n",
       "2                                        0                        0   \n",
       "3                                        0                        0   \n",
       "4                                        0                        0   \n",
       "5                                        0                        0   \n",
       "\n",
       "   sub_utm_channel_Sponsored Newsletter  sub_utm_channel_Sponsored Posts  \\\n",
       "0                                     0                                0   \n",
       "2                                     0                                0   \n",
       "3                                     0                                0   \n",
       "4                                     0                                0   \n",
       "5                                     0                                0   \n",
       "\n",
       "   sub_utm_channel_Student Referral  sub_utm_channel_Teacher Referral  \\\n",
       "0                                 0                                 0   \n",
       "2                                 0                                 0   \n",
       "3                                 0                                 1   \n",
       "4                                 0                                 1   \n",
       "5                                 0                                 0   \n",
       "\n",
       "   sub_utm_channel_Youtube Influencer  sub_utm_channel_Youtube Pre-roll  \n",
       "0                                   0                                 0  \n",
       "2                                   0                                 0  \n",
       "3                                   0                                 0  \n",
       "4                                   0                                 0  \n",
       "5                                   0                                 0  \n",
       "\n",
       "[5 rows x 50 columns]"
      ]
     },
     "execution_count": 28,
     "metadata": {},
     "output_type": "execute_result"
    }
   ],
   "source": [
    "X.head()"
   ]
  },
  {
   "cell_type": "code",
   "execution_count": null,
   "metadata": {
    "collapsed": true
   },
   "outputs": [],
   "source": [
    "#!pip install imbalanced-learn"
   ]
  },
  {
   "cell_type": "code",
   "execution_count": null,
   "metadata": {
    "collapsed": true
   },
   "outputs": [],
   "source": [
    "#!pip install delayed"
   ]
  },
  {
   "cell_type": "code",
   "execution_count": 29,
   "metadata": {},
   "outputs": [
    {
     "data": {
      "text/plain": [
       "success\n",
       "0    319036\n",
       "1     94488\n",
       "dtype: int64"
      ]
     },
     "execution_count": 29,
     "metadata": {},
     "output_type": "execute_result"
    }
   ],
   "source": [
    "df_main.groupby(['success']).size()"
   ]
  },
  {
   "cell_type": "markdown",
   "metadata": {},
   "source": [
    "We have imbalanced/skewed data. Only 23% of data is labeled as \"success\". This will distort the classification model prediction results. So, we'll do oversampling, in order to balance the data."
   ]
  },
  {
   "cell_type": "code",
   "execution_count": 30,
   "metadata": {},
   "outputs": [
    {
     "name": "stdout",
     "output_type": "stream",
     "text": [
      "Counter({0: 319036, 1: 94488})\n",
      "Counter({0: 319036, 1: 319036})\n"
     ]
    }
   ],
   "source": [
    "# the old class distribution\n",
    "print(Counter(y))\n",
    "oversample = RandomOverSampler(sampling_strategy='minority')\n",
    "# fit and apply the transform\n",
    "X_over, y_over = oversample.fit_resample(X, y)\n",
    "# the new class distribution\n",
    "print(Counter(y_over))"
   ]
  },
  {
   "cell_type": "markdown",
   "metadata": {},
   "source": [
    "Now we got the same number of instances for each class."
   ]
  },
  {
   "cell_type": "code",
   "execution_count": 31,
   "metadata": {},
   "outputs": [],
   "source": [
    "X_train, X_test, y_train, y_test=train_test_split(X_over,y_over,test_size=0.2,random_state=40)"
   ]
  },
  {
   "cell_type": "markdown",
   "metadata": {},
   "source": [
    "## Logistic Regression"
   ]
  },
  {
   "cell_type": "code",
   "execution_count": 63,
   "metadata": {
    "collapsed": true
   },
   "outputs": [],
   "source": [
    "### training Logistic Regression on the training dataset\n",
    "\n",
    "logit = LogisticRegression(max_iter = 1000)\n",
    "logit.fit(X_train,y_train)\n",
    "\n",
    "#predicting values for y on testing dataset\n",
    "y_pred_l = logit.predict(X_test)"
   ]
  },
  {
   "cell_type": "code",
   "execution_count": 33,
   "metadata": {},
   "outputs": [
    {
     "name": "stdout",
     "output_type": "stream",
     "text": [
      "Accuracy: 0.5858715668220821\n",
      "Precision: 0.5861501716201895\n",
      "Recall: 0.5813592293934925\n"
     ]
    }
   ],
   "source": [
    "### Printing performance measures\n",
    "\n",
    "print(\"Accuracy:\",metrics.accuracy_score(y_test, y_pred_l))\n",
    "print(\"Precision:\",metrics.precision_score(y_test, y_pred_l))\n",
    "print(\"Recall:\",metrics.recall_score(y_test, y_pred_l))"
   ]
  },
  {
   "cell_type": "code",
   "execution_count": 34,
   "metadata": {},
   "outputs": [
    {
     "data": {
      "text/plain": [
       "array([[37709, 26164],\n",
       "       [26685, 37057]])"
      ]
     },
     "execution_count": 34,
     "metadata": {},
     "output_type": "execute_result"
    }
   ],
   "source": [
    "### confusion matrix\n",
    "\n",
    "cnf_matrix = metrics.confusion_matrix(y_test, y_pred_l)\n",
    "cnf_matrix"
   ]
  },
  {
   "cell_type": "code",
   "execution_count": 64,
   "metadata": {},
   "outputs": [
    {
     "data": {
      "image/png": "[encoded data removed]",
      "text/plain": [
       "<Figure size 432x288 with 1 Axes>"
      ]
     },
     "metadata": {
      "needs_background": "light"
     },
     "output_type": "display_data"
    }
   ],
   "source": [
    "### Plotting the ROC curve\n",
    "\n",
    "y_pred_proba = logit.predict_proba(X_test)[::,1]\n",
    "fpr, tpr, _ = metrics.roc_curve(y_test,  y_pred_proba)\n",
    "auc = metrics.roc_auc_score(y_test, y_pred_proba)\n",
    "plt.plot(fpr,tpr,label= 'ROC curve (area = %0.2f)' % auc)\n",
    "plt.plot([0, 1], [0, 1], 'k--')\n",
    "plt.legend(loc=4)\n",
    "plt.title('ROC curve', y=1.1)\n",
    "plt.xlabel('False Positive Rate')\n",
    "plt.ylabel('True Positive Rate')\n",
    "plt.show()"
   ]
  },
  {
   "cell_type": "code",
   "execution_count": 57,
   "metadata": {},
   "outputs": [
    {
     "data": {
      "text/plain": [
       "0.6136670033077325"
      ]
     },
     "execution_count": 57,
     "metadata": {},
     "output_type": "execute_result"
    }
   ],
   "source": [
    "metrics.roc_auc_score(y_test, y_pred_proba)"
   ]
  },
  {
   "cell_type": "markdown",
   "metadata": {},
   "source": [
    " With Logistic Regression we got that AUC score (Area under the curve) is only about 61.3%."
   ]
  },
  {
   "cell_type": "code",
   "execution_count": 21,
   "metadata": {},
   "outputs": [
    {
     "data": {
      "text/plain": [
       "Text(0.5, 257.44, 'Predicted label')"
      ]
     },
     "execution_count": 21,
     "metadata": {},
     "output_type": "execute_result"
    },
    {
     "data": {
      "image/png": "[encoded data removed]",
      "text/plain": [
       "<Figure size 432x288 with 2 Axes>"
      ]
     },
     "metadata": {
      "needs_background": "light"
     },
     "output_type": "display_data"
    }
   ],
   "source": [
    "### plotting confusion matrix heatmap\n",
    "\n",
    "class_names=[0,1]\n",
    "fig, ax = plt.subplots()\n",
    "tick_marks = np.arange(len(class_names))\n",
    "plt.xticks(tick_marks, class_names)\n",
    "plt.yticks(tick_marks, class_names)\n",
    "\n",
    "sns.heatmap(pd.DataFrame(cnf_matrix), annot=True, cmap=\"YlGnBu\" ,fmt='g')\n",
    "ax.xaxis.set_label_position(\"top\")\n",
    "plt.tight_layout()\n",
    "plt.title('Confusion matrix', y=1.1)\n",
    "plt.ylabel('Actual label')\n",
    "plt.xlabel('Predicted label')\n"
   ]
  },
  {
   "cell_type": "code",
   "execution_count": null,
   "metadata": {
    "collapsed": true
   },
   "outputs": [],
   "source": []
  },
  {
   "cell_type": "markdown",
   "metadata": {},
   "source": [
    "# Decision Tree"
   ]
  },
  {
   "cell_type": "markdown",
   "metadata": {},
   "source": [
    "Now, we'll make classification with decision tree to see if it performs better than Logistic Regression."
   ]
  },
  {
   "cell_type": "code",
   "execution_count": 65,
   "metadata": {
    "collapsed": true
   },
   "outputs": [],
   "source": [
    "# Create Decision Tree classifer object\n",
    "clf = DecisionTreeClassifier()\n",
    "\n",
    "# Train Decision Tree Classifer\n",
    "clf = clf.fit(X_train,y_train)\n",
    "\n",
    "#Predict the response for test dataset\n",
    "y_pred = clf.predict(X_test)"
   ]
  },
  {
   "cell_type": "code",
   "execution_count": 66,
   "metadata": {},
   "outputs": [
    {
     "name": "stdout",
     "output_type": "stream",
     "text": [
      "Accuracy: 0.7588763076440858\n",
      "Precision: 0.7477495078222449\n",
      "Recall: 0.7805842301779047\n"
     ]
    }
   ],
   "source": [
    "print(\"Accuracy:\", metrics.accuracy_score(y_test, y_pred))\n",
    "print(\"Precision:\",metrics.precision_score(y_test, y_pred))\n",
    "print(\"Recall:\",metrics.recall_score(y_test, y_pred))"
   ]
  },
  {
   "cell_type": "markdown",
   "metadata": {},
   "source": [
    "We got 76% Accuracy rate. Which is a much better performance than in the case of Logistic regression."
   ]
  },
  {
   "cell_type": "code",
   "execution_count": 67,
   "metadata": {},
   "outputs": [
    {
     "data": {
      "text/plain": [
       "0.82348360541347"
      ]
     },
     "execution_count": 67,
     "metadata": {},
     "output_type": "execute_result"
    }
   ],
   "source": [
    "y_score = clf.predict_proba(X_test)[:,1]\n",
    "\n",
    "metrics.roc_auc_score(y_test, y_score)"
   ]
  },
  {
   "cell_type": "code",
   "execution_count": 69,
   "metadata": {},
   "outputs": [
    {
     "data": {
      "image/png": "[encoded data removed]",
      "text/plain": [
       "<Figure size 432x288 with 1 Axes>"
      ]
     },
     "metadata": {
      "needs_background": "light"
     },
     "output_type": "display_data"
    }
   ],
   "source": [
    "### Plotting the ROC curve\n",
    "\n",
    "fpr, tpr, _ = metrics.roc_curve(y_test,  y_score)\n",
    "auc = metrics.roc_auc_score(y_test, y_score)\n",
    "plt.plot(fpr,tpr,label= 'ROC curve (area = %0.2f)' % auc)\n",
    "plt.plot([0, 1], [0, 1], 'k--')\n",
    "plt.legend(loc=4)\n",
    "plt.title('ROC curve', y=1.1)\n",
    "plt.xlabel('False Positive Rate')\n",
    "plt.ylabel('True Positive Rate')\n",
    "plt.show()\n"
   ]
  },
  {
   "cell_type": "markdown",
   "metadata": {
    "collapsed": true
   },
   "source": [
    "### With 76% accuracy rate and 82% AUC score, we can say that Decision tree performed well with our dataset."
   ]
  },
  {
   "cell_type": "code",
   "execution_count": null,
   "metadata": {
    "collapsed": true
   },
   "outputs": [],
   "source": []
  }
 ],
 "metadata": {
  "kernelspec": {
   "display_name": "Python 3",
   "language": "python",
   "name": "python3"
  },
  "language_info": {
   "codemirror_mode": {
    "name": "ipython",
    "version": 3
   },
   "file_extension": ".py",
   "mimetype": "text/x-python",
   "name": "python",
   "nbconvert_exporter": "python",
   "pygments_lexer": "ipython3",
   "version": "3.8.8"
  }
 },
 "nbformat": 4,
 "nbformat_minor": 2
}
