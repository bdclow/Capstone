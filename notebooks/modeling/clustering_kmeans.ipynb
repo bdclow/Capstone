{
 "cells": [
  {
   "cell_type": "code",
   "execution_count": 1,
   "metadata": {
    "tags": []
   },
   "outputs": [],
   "source": [
    "import numpy as np\n",
    "import pandas as pd\n",
    "import matplotlib.pyplot as plt\n",
    "import seaborn as sns\n",
    "from sklearn.decomposition import PCA\n",
    "from sklearn.preprocessing import StandardScaler\n",
    "from sklearn import metrics\n",
    "from sklearn.model_selection import ParameterGrid\n",
    "from sklearn.cluster import KMeans"
   ]
  },
  {
   "cell_type": "code",
   "execution_count": 2,
   "metadata": {},
   "outputs": [
    {
     "name": "stdout",
     "output_type": "stream",
     "text": [
      "(475448, 52)\n"
     ]
    },
    {
     "data": {
      "text/html": [
       "<div>\n",
       "<style scoped>\n",
       "    .dataframe tbody tr th:only-of-type {\n",
       "        vertical-align: middle;\n",
       "    }\n",
       "\n",
       "    .dataframe tbody tr th {\n",
       "        vertical-align: top;\n",
       "    }\n",
       "\n",
       "    .dataframe thead th {\n",
       "        text-align: right;\n",
       "    }\n",
       "</style>\n",
       "<table border=\"1\" class=\"dataframe\">\n",
       "  <thead>\n",
       "    <tr style=\"text-align: right;\">\n",
       "      <th></th>\n",
       "      <th>user_uid</th>\n",
       "      <th>create_time</th>\n",
       "      <th>success</th>\n",
       "      <th>cancellation_time</th>\n",
       "      <th>payment_provider_cat_codes</th>\n",
       "      <th>payment_ux_cat_codes</th>\n",
       "      <th>trial_length_offer_cat_codes</th>\n",
       "      <th>sub_utm_channel_cat_codes</th>\n",
       "      <th>sub_utm_source_cat_codes</th>\n",
       "      <th>trial_start_day</th>\n",
       "      <th>...</th>\n",
       "      <th>day-31</th>\n",
       "      <th>comment_volume</th>\n",
       "      <th>comment_score</th>\n",
       "      <th>discussion_volume</th>\n",
       "      <th>discussion_score</th>\n",
       "      <th>follow_volume</th>\n",
       "      <th>projects_volume</th>\n",
       "      <th>projects_score</th>\n",
       "      <th>review_volume</th>\n",
       "      <th>rating_avg</th>\n",
       "    </tr>\n",
       "  </thead>\n",
       "  <tbody>\n",
       "    <tr>\n",
       "      <th>0</th>\n",
       "      <td>23692129</td>\n",
       "      <td>2022-01-01 00:00:02</td>\n",
       "      <td>0</td>\n",
       "      <td>2022-01-31 19:46:01</td>\n",
       "      <td>2</td>\n",
       "      <td>2</td>\n",
       "      <td>0</td>\n",
       "      <td>10</td>\n",
       "      <td>30</td>\n",
       "      <td>2022-01-01</td>\n",
       "      <td>...</td>\n",
       "      <td>0.0</td>\n",
       "      <td>NaN</td>\n",
       "      <td>NaN</td>\n",
       "      <td>NaN</td>\n",
       "      <td>NaN</td>\n",
       "      <td>NaN</td>\n",
       "      <td>NaN</td>\n",
       "      <td>NaN</td>\n",
       "      <td>NaN</td>\n",
       "      <td>NaN</td>\n",
       "    </tr>\n",
       "    <tr>\n",
       "      <th>1</th>\n",
       "      <td>23674285</td>\n",
       "      <td>2022-01-01 00:00:27</td>\n",
       "      <td>0</td>\n",
       "      <td>0.0</td>\n",
       "      <td>-1</td>\n",
       "      <td>-1</td>\n",
       "      <td>0</td>\n",
       "      <td>2</td>\n",
       "      <td>116</td>\n",
       "      <td>2022-01-01</td>\n",
       "      <td>...</td>\n",
       "      <td>0.0</td>\n",
       "      <td>NaN</td>\n",
       "      <td>NaN</td>\n",
       "      <td>NaN</td>\n",
       "      <td>NaN</td>\n",
       "      <td>NaN</td>\n",
       "      <td>NaN</td>\n",
       "      <td>NaN</td>\n",
       "      <td>NaN</td>\n",
       "      <td>NaN</td>\n",
       "    </tr>\n",
       "    <tr>\n",
       "      <th>2</th>\n",
       "      <td>16119588</td>\n",
       "      <td>2022-01-01 00:01:19</td>\n",
       "      <td>1</td>\n",
       "      <td>0.0</td>\n",
       "      <td>1</td>\n",
       "      <td>5</td>\n",
       "      <td>0</td>\n",
       "      <td>10</td>\n",
       "      <td>30</td>\n",
       "      <td>2022-01-01</td>\n",
       "      <td>...</td>\n",
       "      <td>0.0</td>\n",
       "      <td>NaN</td>\n",
       "      <td>NaN</td>\n",
       "      <td>NaN</td>\n",
       "      <td>NaN</td>\n",
       "      <td>NaN</td>\n",
       "      <td>NaN</td>\n",
       "      <td>NaN</td>\n",
       "      <td>NaN</td>\n",
       "      <td>NaN</td>\n",
       "    </tr>\n",
       "    <tr>\n",
       "      <th>3</th>\n",
       "      <td>23693101</td>\n",
       "      <td>2022-01-01 00:01:42</td>\n",
       "      <td>0</td>\n",
       "      <td>2022-02-23 17:37:56</td>\n",
       "      <td>2</td>\n",
       "      <td>2</td>\n",
       "      <td>0</td>\n",
       "      <td>16</td>\n",
       "      <td>55</td>\n",
       "      <td>2022-01-01</td>\n",
       "      <td>...</td>\n",
       "      <td>0.0</td>\n",
       "      <td>NaN</td>\n",
       "      <td>NaN</td>\n",
       "      <td>NaN</td>\n",
       "      <td>NaN</td>\n",
       "      <td>NaN</td>\n",
       "      <td>NaN</td>\n",
       "      <td>NaN</td>\n",
       "      <td>NaN</td>\n",
       "      <td>NaN</td>\n",
       "    </tr>\n",
       "    <tr>\n",
       "      <th>4</th>\n",
       "      <td>23692349</td>\n",
       "      <td>2022-01-01 00:02:04</td>\n",
       "      <td>1</td>\n",
       "      <td>0.0</td>\n",
       "      <td>2</td>\n",
       "      <td>2</td>\n",
       "      <td>0</td>\n",
       "      <td>16</td>\n",
       "      <td>55</td>\n",
       "      <td>2022-01-01</td>\n",
       "      <td>...</td>\n",
       "      <td>0.0</td>\n",
       "      <td>NaN</td>\n",
       "      <td>NaN</td>\n",
       "      <td>NaN</td>\n",
       "      <td>NaN</td>\n",
       "      <td>NaN</td>\n",
       "      <td>NaN</td>\n",
       "      <td>NaN</td>\n",
       "      <td>NaN</td>\n",
       "      <td>NaN</td>\n",
       "    </tr>\n",
       "  </tbody>\n",
       "</table>\n",
       "<p>5 rows × 52 columns</p>\n",
       "</div>"
      ],
      "text/plain": [
       "   user_uid          create_time  success    cancellation_time  \\\n",
       "0  23692129  2022-01-01 00:00:02        0  2022-01-31 19:46:01   \n",
       "1  23674285  2022-01-01 00:00:27        0                  0.0   \n",
       "2  16119588  2022-01-01 00:01:19        1                  0.0   \n",
       "3  23693101  2022-01-01 00:01:42        0  2022-02-23 17:37:56   \n",
       "4  23692349  2022-01-01 00:02:04        1                  0.0   \n",
       "\n",
       "   payment_provider_cat_codes  payment_ux_cat_codes  \\\n",
       "0                           2                     2   \n",
       "1                          -1                    -1   \n",
       "2                           1                     5   \n",
       "3                           2                     2   \n",
       "4                           2                     2   \n",
       "\n",
       "   trial_length_offer_cat_codes  sub_utm_channel_cat_codes  \\\n",
       "0                             0                         10   \n",
       "1                             0                          2   \n",
       "2                             0                         10   \n",
       "3                             0                         16   \n",
       "4                             0                         16   \n",
       "\n",
       "   sub_utm_source_cat_codes trial_start_day  ... day-31  comment_volume  \\\n",
       "0                        30      2022-01-01  ...    0.0             NaN   \n",
       "1                       116      2022-01-01  ...    0.0             NaN   \n",
       "2                        30      2022-01-01  ...    0.0             NaN   \n",
       "3                        55      2022-01-01  ...    0.0             NaN   \n",
       "4                        55      2022-01-01  ...    0.0             NaN   \n",
       "\n",
       "   comment_score  discussion_volume  discussion_score  follow_volume  \\\n",
       "0            NaN                NaN               NaN            NaN   \n",
       "1            NaN                NaN               NaN            NaN   \n",
       "2            NaN                NaN               NaN            NaN   \n",
       "3            NaN                NaN               NaN            NaN   \n",
       "4            NaN                NaN               NaN            NaN   \n",
       "\n",
       "   projects_volume  projects_score  review_volume  rating_avg  \n",
       "0              NaN             NaN            NaN         NaN  \n",
       "1              NaN             NaN            NaN         NaN  \n",
       "2              NaN             NaN            NaN         NaN  \n",
       "3              NaN             NaN            NaN         NaN  \n",
       "4              NaN             NaN            NaN         NaN  \n",
       "\n",
       "[5 rows x 52 columns]"
      ]
     },
     "execution_count": 2,
     "metadata": {},
     "output_type": "execute_result"
    }
   ],
   "source": [
    "# reading in the main dataframe\n",
    "data_dir = \"../../data/\"\n",
    "df = pd.read_csv(data_dir+'skillshare_combined.csv')\n",
    "print(df.shape)\n",
    "df.head()"
   ]
  },
  {
   "cell_type": "code",
   "execution_count": 3,
   "metadata": {},
   "outputs": [
    {
     "data": {
      "text/plain": [
       "Index(['user_uid', 'create_time', 'success', 'cancellation_time',\n",
       "       'payment_provider_cat_codes', 'payment_ux_cat_codes',\n",
       "       'trial_length_offer_cat_codes', 'sub_utm_channel_cat_codes',\n",
       "       'sub_utm_source_cat_codes', 'trial_start_day', 'trial_end_day',\n",
       "       'is_cancel_during_trial', 'day-1', 'day-2', 'day-3', 'day-4', 'day-5',\n",
       "       'day-6', 'day-7', 'day-8', 'day-9', 'day-10', 'day-11', 'day-12',\n",
       "       'day-13', 'day-14', 'day-15', 'day-16', 'day-17', 'day-18', 'day-19',\n",
       "       'day-20', 'day-21', 'day-22', 'day-23', 'day-24', 'day-25', 'day-26',\n",
       "       'day-27', 'day-28', 'day-29', 'day-30', 'day-31', 'comment_volume',\n",
       "       'comment_score', 'discussion_volume', 'discussion_score',\n",
       "       'follow_volume', 'projects_volume', 'projects_score', 'review_volume',\n",
       "       'rating_avg'],\n",
       "      dtype='object')"
      ]
     },
     "execution_count": 3,
     "metadata": {},
     "output_type": "execute_result"
    }
   ],
   "source": [
    "df.keys()"
   ]
  },
  {
   "cell_type": "code",
   "execution_count": 4,
   "metadata": {
    "tags": []
   },
   "outputs": [],
   "source": [
    "# reading and joining other data for categorcial variables that may be used later on..\n",
    "\n",
    "pmt_ux = pd.read_csv(data_dir+'lookup_payment_ux.csv', usecols = ['payment_ux', 'payment_ux_cat_codes'])\n",
    "trial_info = pd.read_csv(data_dir+'lookup_trial_length_offer.csv', usecols = ['trial_length_offer', \n",
    "                                                                     'trial_length_offer_cat_codes'])\n",
    "sub_channel = pd.read_csv(data_dir+'lookup_sub_utm_channel.csv', usecols = ['sub_utm_channel', 'sub_utm_channel_cat_codes'])"
   ]
  },
  {
   "cell_type": "code",
   "execution_count": 5,
   "metadata": {
    "tags": []
   },
   "outputs": [],
   "source": [
    "join1 = pd.merge(df, pmt_ux, on = [\"payment_ux_cat_codes\"], how = \"left\")\n",
    "join2 = pd.merge(join1, trial_info, on = [\"trial_length_offer_cat_codes\"], how = \"left\")\n",
    "join3 = pd.merge(join2, sub_channel, on = [\"sub_utm_channel_cat_codes\"], how = \"left\")\n",
    "df_main = join3.copy()"
   ]
  },
  {
   "cell_type": "code",
   "execution_count": 6,
   "metadata": {},
   "outputs": [
    {
     "data": {
      "text/plain": [
       "Index(['user_uid', 'create_time', 'success', 'cancellation_time',\n",
       "       'payment_provider_cat_codes', 'payment_ux_cat_codes',\n",
       "       'trial_length_offer_cat_codes', 'sub_utm_channel_cat_codes',\n",
       "       'sub_utm_source_cat_codes', 'trial_start_day', 'trial_end_day',\n",
       "       'is_cancel_during_trial', 'day-1', 'day-2', 'day-3', 'day-4', 'day-5',\n",
       "       'day-6', 'day-7', 'day-8', 'day-9', 'day-10', 'day-11', 'day-12',\n",
       "       'day-13', 'day-14', 'day-15', 'day-16', 'day-17', 'day-18', 'day-19',\n",
       "       'day-20', 'day-21', 'day-22', 'day-23', 'day-24', 'day-25', 'day-26',\n",
       "       'day-27', 'day-28', 'day-29', 'day-30', 'day-31', 'comment_volume',\n",
       "       'comment_score', 'discussion_volume', 'discussion_score',\n",
       "       'follow_volume', 'projects_volume', 'projects_score', 'review_volume',\n",
       "       'rating_avg', 'payment_ux', 'trial_length_offer', 'sub_utm_channel'],\n",
       "      dtype='object')"
      ]
     },
     "execution_count": 6,
     "metadata": {},
     "output_type": "execute_result"
    }
   ],
   "source": [
    "df_main.keys()"
   ]
  },
  {
   "cell_type": "code",
   "execution_count": 7,
   "metadata": {},
   "outputs": [
    {
     "name": "stdout",
     "output_type": "stream",
     "text": [
      "(475448, 55)\n"
     ]
    },
    {
     "data": {
      "text/html": [
       "<div>\n",
       "<style scoped>\n",
       "    .dataframe tbody tr th:only-of-type {\n",
       "        vertical-align: middle;\n",
       "    }\n",
       "\n",
       "    .dataframe tbody tr th {\n",
       "        vertical-align: top;\n",
       "    }\n",
       "\n",
       "    .dataframe thead th {\n",
       "        text-align: right;\n",
       "    }\n",
       "</style>\n",
       "<table border=\"1\" class=\"dataframe\">\n",
       "  <thead>\n",
       "    <tr style=\"text-align: right;\">\n",
       "      <th></th>\n",
       "      <th>user_uid</th>\n",
       "      <th>success</th>\n",
       "      <th>payment_provider_cat_codes</th>\n",
       "      <th>payment_ux_cat_codes</th>\n",
       "      <th>trial_length_offer_cat_codes</th>\n",
       "      <th>sub_utm_channel_cat_codes</th>\n",
       "      <th>sub_utm_source_cat_codes</th>\n",
       "      <th>is_cancel_during_trial</th>\n",
       "      <th>day-1</th>\n",
       "      <th>day-2</th>\n",
       "      <th>...</th>\n",
       "      <th>day-31</th>\n",
       "      <th>comment_volume</th>\n",
       "      <th>comment_score</th>\n",
       "      <th>discussion_volume</th>\n",
       "      <th>discussion_score</th>\n",
       "      <th>follow_volume</th>\n",
       "      <th>projects_volume</th>\n",
       "      <th>projects_score</th>\n",
       "      <th>review_volume</th>\n",
       "      <th>rating_avg</th>\n",
       "    </tr>\n",
       "  </thead>\n",
       "  <tbody>\n",
       "    <tr>\n",
       "      <th>count</th>\n",
       "      <td>4.754480e+05</td>\n",
       "      <td>475448.000000</td>\n",
       "      <td>475448.000000</td>\n",
       "      <td>475448.000000</td>\n",
       "      <td>475448.000000</td>\n",
       "      <td>475448.000000</td>\n",
       "      <td>475448.000000</td>\n",
       "      <td>475448.000000</td>\n",
       "      <td>475448.000000</td>\n",
       "      <td>475448.000000</td>\n",
       "      <td>...</td>\n",
       "      <td>475448.000000</td>\n",
       "      <td>1670.000000</td>\n",
       "      <td>1670.000000</td>\n",
       "      <td>2383.000000</td>\n",
       "      <td>2383.000000</td>\n",
       "      <td>44863.000000</td>\n",
       "      <td>2764.000000</td>\n",
       "      <td>2764.000000</td>\n",
       "      <td>8412.000000</td>\n",
       "      <td>8412.000000</td>\n",
       "    </tr>\n",
       "    <tr>\n",
       "      <th>mean</th>\n",
       "      <td>2.335938e+07</td>\n",
       "      <td>0.239185</td>\n",
       "      <td>1.715201</td>\n",
       "      <td>2.463958</td>\n",
       "      <td>0.215906</td>\n",
       "      <td>8.931950</td>\n",
       "      <td>67.030115</td>\n",
       "      <td>0.330188</td>\n",
       "      <td>1259.100373</td>\n",
       "      <td>657.981009</td>\n",
       "      <td>...</td>\n",
       "      <td>39.418342</td>\n",
       "      <td>1.678443</td>\n",
       "      <td>0.480838</td>\n",
       "      <td>1.425514</td>\n",
       "      <td>0.499371</td>\n",
       "      <td>2.010231</td>\n",
       "      <td>1.419682</td>\n",
       "      <td>0.117221</td>\n",
       "      <td>1.431051</td>\n",
       "      <td>3.521025</td>\n",
       "    </tr>\n",
       "    <tr>\n",
       "      <th>std</th>\n",
       "      <td>4.693632e+06</td>\n",
       "      <td>0.426586</td>\n",
       "      <td>0.672102</td>\n",
       "      <td>2.067800</td>\n",
       "      <td>0.411450</td>\n",
       "      <td>6.152337</td>\n",
       "      <td>86.078630</td>\n",
       "      <td>0.470281</td>\n",
       "      <td>2586.636499</td>\n",
       "      <td>2043.388756</td>\n",
       "      <td>...</td>\n",
       "      <td>544.256502</td>\n",
       "      <td>1.805113</td>\n",
       "      <td>0.965829</td>\n",
       "      <td>1.313325</td>\n",
       "      <td>0.972707</td>\n",
       "      <td>3.619460</td>\n",
       "      <td>1.596817</td>\n",
       "      <td>0.449402</td>\n",
       "      <td>1.426144</td>\n",
       "      <td>0.632750</td>\n",
       "    </tr>\n",
       "    <tr>\n",
       "      <th>min</th>\n",
       "      <td>6.300000e+01</td>\n",
       "      <td>0.000000</td>\n",
       "      <td>-1.000000</td>\n",
       "      <td>-1.000000</td>\n",
       "      <td>0.000000</td>\n",
       "      <td>0.000000</td>\n",
       "      <td>-1.000000</td>\n",
       "      <td>0.000000</td>\n",
       "      <td>0.000000</td>\n",
       "      <td>0.000000</td>\n",
       "      <td>...</td>\n",
       "      <td>0.000000</td>\n",
       "      <td>1.000000</td>\n",
       "      <td>0.000000</td>\n",
       "      <td>1.000000</td>\n",
       "      <td>0.000000</td>\n",
       "      <td>1.000000</td>\n",
       "      <td>1.000000</td>\n",
       "      <td>0.000000</td>\n",
       "      <td>1.000000</td>\n",
       "      <td>1.000000</td>\n",
       "    </tr>\n",
       "    <tr>\n",
       "      <th>25%</th>\n",
       "      <td>2.399877e+07</td>\n",
       "      <td>0.000000</td>\n",
       "      <td>1.000000</td>\n",
       "      <td>2.000000</td>\n",
       "      <td>0.000000</td>\n",
       "      <td>3.000000</td>\n",
       "      <td>-1.000000</td>\n",
       "      <td>0.000000</td>\n",
       "      <td>0.000000</td>\n",
       "      <td>0.000000</td>\n",
       "      <td>...</td>\n",
       "      <td>0.000000</td>\n",
       "      <td>1.000000</td>\n",
       "      <td>0.000000</td>\n",
       "      <td>1.000000</td>\n",
       "      <td>0.000000</td>\n",
       "      <td>1.000000</td>\n",
       "      <td>1.000000</td>\n",
       "      <td>0.000000</td>\n",
       "      <td>1.000000</td>\n",
       "      <td>3.000000</td>\n",
       "    </tr>\n",
       "    <tr>\n",
       "      <th>50%</th>\n",
       "      <td>2.478580e+07</td>\n",
       "      <td>0.000000</td>\n",
       "      <td>2.000000</td>\n",
       "      <td>2.000000</td>\n",
       "      <td>0.000000</td>\n",
       "      <td>10.000000</td>\n",
       "      <td>30.000000</td>\n",
       "      <td>0.000000</td>\n",
       "      <td>227.000000</td>\n",
       "      <td>0.000000</td>\n",
       "      <td>...</td>\n",
       "      <td>0.000000</td>\n",
       "      <td>1.000000</td>\n",
       "      <td>0.000000</td>\n",
       "      <td>1.000000</td>\n",
       "      <td>0.000000</td>\n",
       "      <td>1.000000</td>\n",
       "      <td>1.000000</td>\n",
       "      <td>0.000000</td>\n",
       "      <td>1.000000</td>\n",
       "      <td>4.000000</td>\n",
       "    </tr>\n",
       "    <tr>\n",
       "      <th>75%</th>\n",
       "      <td>2.551945e+07</td>\n",
       "      <td>0.000000</td>\n",
       "      <td>2.000000</td>\n",
       "      <td>5.000000</td>\n",
       "      <td>0.000000</td>\n",
       "      <td>16.000000</td>\n",
       "      <td>55.000000</td>\n",
       "      <td>1.000000</td>\n",
       "      <td>1495.000000</td>\n",
       "      <td>55.000000</td>\n",
       "      <td>...</td>\n",
       "      <td>0.000000</td>\n",
       "      <td>2.000000</td>\n",
       "      <td>1.000000</td>\n",
       "      <td>1.000000</td>\n",
       "      <td>1.000000</td>\n",
       "      <td>2.000000</td>\n",
       "      <td>1.000000</td>\n",
       "      <td>0.000000</td>\n",
       "      <td>1.000000</td>\n",
       "      <td>4.000000</td>\n",
       "    </tr>\n",
       "    <tr>\n",
       "      <th>max</th>\n",
       "      <td>2.659138e+07</td>\n",
       "      <td>1.000000</td>\n",
       "      <td>3.000000</td>\n",
       "      <td>9.000000</td>\n",
       "      <td>1.000000</td>\n",
       "      <td>18.000000</td>\n",
       "      <td>230.000000</td>\n",
       "      <td>1.000000</td>\n",
       "      <td>55674.000000</td>\n",
       "      <td>70626.000000</td>\n",
       "      <td>...</td>\n",
       "      <td>53442.000000</td>\n",
       "      <td>29.000000</td>\n",
       "      <td>16.000000</td>\n",
       "      <td>18.000000</td>\n",
       "      <td>10.000000</td>\n",
       "      <td>171.000000</td>\n",
       "      <td>58.000000</td>\n",
       "      <td>9.000000</td>\n",
       "      <td>48.000000</td>\n",
       "      <td>4.000000</td>\n",
       "    </tr>\n",
       "  </tbody>\n",
       "</table>\n",
       "<p>8 rows × 48 columns</p>\n",
       "</div>"
      ],
      "text/plain": [
       "           user_uid        success  payment_provider_cat_codes  \\\n",
       "count  4.754480e+05  475448.000000               475448.000000   \n",
       "mean   2.335938e+07       0.239185                    1.715201   \n",
       "std    4.693632e+06       0.426586                    0.672102   \n",
       "min    6.300000e+01       0.000000                   -1.000000   \n",
       "25%    2.399877e+07       0.000000                    1.000000   \n",
       "50%    2.478580e+07       0.000000                    2.000000   \n",
       "75%    2.551945e+07       0.000000                    2.000000   \n",
       "max    2.659138e+07       1.000000                    3.000000   \n",
       "\n",
       "       payment_ux_cat_codes  trial_length_offer_cat_codes  \\\n",
       "count         475448.000000                 475448.000000   \n",
       "mean               2.463958                      0.215906   \n",
       "std                2.067800                      0.411450   \n",
       "min               -1.000000                      0.000000   \n",
       "25%                2.000000                      0.000000   \n",
       "50%                2.000000                      0.000000   \n",
       "75%                5.000000                      0.000000   \n",
       "max                9.000000                      1.000000   \n",
       "\n",
       "       sub_utm_channel_cat_codes  sub_utm_source_cat_codes  \\\n",
       "count              475448.000000             475448.000000   \n",
       "mean                    8.931950                 67.030115   \n",
       "std                     6.152337                 86.078630   \n",
       "min                     0.000000                 -1.000000   \n",
       "25%                     3.000000                 -1.000000   \n",
       "50%                    10.000000                 30.000000   \n",
       "75%                    16.000000                 55.000000   \n",
       "max                    18.000000                230.000000   \n",
       "\n",
       "       is_cancel_during_trial          day-1          day-2  ...  \\\n",
       "count           475448.000000  475448.000000  475448.000000  ...   \n",
       "mean                 0.330188    1259.100373     657.981009  ...   \n",
       "std                  0.470281    2586.636499    2043.388756  ...   \n",
       "min                  0.000000       0.000000       0.000000  ...   \n",
       "25%                  0.000000       0.000000       0.000000  ...   \n",
       "50%                  0.000000     227.000000       0.000000  ...   \n",
       "75%                  1.000000    1495.000000      55.000000  ...   \n",
       "max                  1.000000   55674.000000   70626.000000  ...   \n",
       "\n",
       "              day-31  comment_volume  comment_score  discussion_volume  \\\n",
       "count  475448.000000     1670.000000    1670.000000        2383.000000   \n",
       "mean       39.418342        1.678443       0.480838           1.425514   \n",
       "std       544.256502        1.805113       0.965829           1.313325   \n",
       "min         0.000000        1.000000       0.000000           1.000000   \n",
       "25%         0.000000        1.000000       0.000000           1.000000   \n",
       "50%         0.000000        1.000000       0.000000           1.000000   \n",
       "75%         0.000000        2.000000       1.000000           1.000000   \n",
       "max     53442.000000       29.000000      16.000000          18.000000   \n",
       "\n",
       "       discussion_score  follow_volume  projects_volume  projects_score  \\\n",
       "count       2383.000000   44863.000000      2764.000000     2764.000000   \n",
       "mean           0.499371       2.010231         1.419682        0.117221   \n",
       "std            0.972707       3.619460         1.596817        0.449402   \n",
       "min            0.000000       1.000000         1.000000        0.000000   \n",
       "25%            0.000000       1.000000         1.000000        0.000000   \n",
       "50%            0.000000       1.000000         1.000000        0.000000   \n",
       "75%            1.000000       2.000000         1.000000        0.000000   \n",
       "max           10.000000     171.000000        58.000000        9.000000   \n",
       "\n",
       "       review_volume   rating_avg  \n",
       "count    8412.000000  8412.000000  \n",
       "mean        1.431051     3.521025  \n",
       "std         1.426144     0.632750  \n",
       "min         1.000000     1.000000  \n",
       "25%         1.000000     3.000000  \n",
       "50%         1.000000     4.000000  \n",
       "75%         1.000000     4.000000  \n",
       "max        48.000000     4.000000  \n",
       "\n",
       "[8 rows x 48 columns]"
      ]
     },
     "execution_count": 7,
     "metadata": {},
     "output_type": "execute_result"
    }
   ],
   "source": [
    "print(df_main.shape)\n",
    "\n",
    "df_main.describe()"
   ]
  },
  {
   "cell_type": "markdown",
   "metadata": {},
   "source": [
    "# Descriptive Statistics Part"
   ]
  },
  {
   "cell_type": "code",
   "execution_count": 8,
   "metadata": {},
   "outputs": [],
   "source": [
    "info1 = pd.pivot_table(df_main[['trial_length_offer', 'success']], index=['trial_length_offer'], columns=['success'], aggfunc=len, fill_value=0)"
   ]
  },
  {
   "cell_type": "code",
   "execution_count": 9,
   "metadata": {},
   "outputs": [
    {
     "data": {
      "text/html": [
       "<div>\n",
       "<style scoped>\n",
       "    .dataframe tbody tr th:only-of-type {\n",
       "        vertical-align: middle;\n",
       "    }\n",
       "\n",
       "    .dataframe tbody tr th {\n",
       "        vertical-align: top;\n",
       "    }\n",
       "\n",
       "    .dataframe thead th {\n",
       "        text-align: right;\n",
       "    }\n",
       "</style>\n",
       "<table border=\"1\" class=\"dataframe\">\n",
       "  <thead>\n",
       "    <tr style=\"text-align: right;\">\n",
       "      <th>success</th>\n",
       "      <th>0</th>\n",
       "      <th>1</th>\n",
       "    </tr>\n",
       "    <tr>\n",
       "      <th>trial_length_offer</th>\n",
       "      <th></th>\n",
       "      <th></th>\n",
       "    </tr>\n",
       "  </thead>\n",
       "  <tbody>\n",
       "    <tr>\n",
       "      <th>One Month</th>\n",
       "      <td>292342</td>\n",
       "      <td>80454</td>\n",
       "    </tr>\n",
       "    <tr>\n",
       "      <th>One Week</th>\n",
       "      <td>69386</td>\n",
       "      <td>33266</td>\n",
       "    </tr>\n",
       "  </tbody>\n",
       "</table>\n",
       "</div>"
      ],
      "text/plain": [
       "success                  0      1\n",
       "trial_length_offer               \n",
       "One Month           292342  80454\n",
       "One Week             69386  33266"
      ]
     },
     "execution_count": 9,
     "metadata": {},
     "output_type": "execute_result"
    }
   ],
   "source": [
    "info1"
   ]
  },
  {
   "cell_type": "code",
   "execution_count": 10,
   "metadata": {},
   "outputs": [
    {
     "data": {
      "text/plain": [
       "<AxesSubplot:title={'center':'Subscribtion per Trial length offer'}, xlabel='trial_length_offer'>"
      ]
     },
     "execution_count": 10,
     "metadata": {},
     "output_type": "execute_result"
    },
    {
     "data": {
      "image/png": "[encoded data removed]",
      "text/plain": [
       "<Figure size 432x288 with 1 Axes>"
      ]
     },
     "metadata": {
      "needs_background": "light"
     },
     "output_type": "display_data"
    }
   ],
   "source": [
    "info1.plot(kind = \"bar\", title= \"Subscribtion per Trial length offer\")"
   ]
  },
  {
   "cell_type": "code",
   "execution_count": 11,
   "metadata": {},
   "outputs": [],
   "source": [
    "info2 = pd.pivot_table(df_main[['sub_utm_channel', 'success']], index=['sub_utm_channel'], \n",
    "               columns=['success'], aggfunc=len, fill_value=0)"
   ]
  },
  {
   "cell_type": "code",
   "execution_count": 12,
   "metadata": {},
   "outputs": [
    {
     "data": {
      "text/plain": [
       "<AxesSubplot:title={'center':'Subscribtion per Channel'}, xlabel='sub_utm_channel'>"
      ]
     },
     "execution_count": 12,
     "metadata": {},
     "output_type": "execute_result"
    },
    {
     "data": {
      "image/png": "[encoded data removed]",
      "text/plain": [
       "<Figure size 720x432 with 1 Axes>"
      ]
     },
     "metadata": {
      "needs_background": "light"
     },
     "output_type": "display_data"
    }
   ],
   "source": [
    "info2.plot(kind = \"bar\", figsize = (10,6), title= \"Subscribtion per Channel\")"
   ]
  },
  {
   "cell_type": "markdown",
   "metadata": {},
   "source": [
    "# Cleaning the data for Clustering"
   ]
  },
  {
   "cell_type": "code",
   "execution_count": 13,
   "metadata": {},
   "outputs": [
    {
     "data": {
      "text/plain": [
       "user_uid                             0\n",
       "create_time                          0\n",
       "success                              0\n",
       "cancellation_time                    0\n",
       "payment_provider_cat_codes           0\n",
       "payment_ux_cat_codes                 0\n",
       "trial_length_offer_cat_codes         0\n",
       "sub_utm_channel_cat_codes            0\n",
       "sub_utm_source_cat_codes             0\n",
       "trial_start_day                      0\n",
       "trial_end_day                        0\n",
       "is_cancel_during_trial               0\n",
       "day-1                                0\n",
       "day-2                                0\n",
       "day-3                                0\n",
       "day-4                                0\n",
       "day-5                                0\n",
       "day-6                                0\n",
       "day-7                                0\n",
       "day-8                                0\n",
       "day-9                                0\n",
       "day-10                               0\n",
       "day-11                               0\n",
       "day-12                               0\n",
       "day-13                               0\n",
       "day-14                               0\n",
       "day-15                               0\n",
       "day-16                               0\n",
       "day-17                               0\n",
       "day-18                               0\n",
       "day-19                               0\n",
       "day-20                               0\n",
       "day-21                               0\n",
       "day-22                               0\n",
       "day-23                               0\n",
       "day-24                               0\n",
       "day-25                               0\n",
       "day-26                               0\n",
       "day-27                               0\n",
       "day-28                               0\n",
       "day-29                               0\n",
       "day-30                               0\n",
       "day-31                               0\n",
       "comment_volume                  473778\n",
       "comment_score                   473778\n",
       "discussion_volume               473065\n",
       "discussion_score                473065\n",
       "follow_volume                   430585\n",
       "projects_volume                 472684\n",
       "projects_score                  472684\n",
       "review_volume                   467036\n",
       "rating_avg                      467036\n",
       "payment_ux                       61924\n",
       "trial_length_offer                   0\n",
       "sub_utm_channel                      0\n",
       "dtype: int64"
      ]
     },
     "execution_count": 13,
     "metadata": {},
     "output_type": "execute_result"
    }
   ],
   "source": [
    "# checking for NA values in order to clean the data\n",
    "\n",
    "df_main.isna().sum()\n",
    "\n",
    "# we see lots of NA values in last features"
   ]
  },
  {
   "cell_type": "code",
   "execution_count": 14,
   "metadata": {},
   "outputs": [],
   "source": [
    "# extracting necessary data for K-means --- taking only numeric variables and variables with less NA values\n",
    "\n",
    "df_for_clustering = df_main.loc[df_main[\"payment_ux_cat_codes\"]>=0].iloc[:,12:52]\n",
    "df_for_clustering = df_for_clustering.drop(['comment_volume', 'comment_score', \n",
    "                                                   'discussion_volume', 'discussion_score'\n",
    "                                                   ], axis=1).dropna()\n",
    "\n",
    "#df_for_clustering_cleaned2 = df_for_clustering.drop(['comment_volume', 'comment_score'], axis=1).dropna()"
   ]
  },
  {
   "cell_type": "code",
   "execution_count": 15,
   "metadata": {},
   "outputs": [
    {
     "data": {
      "text/plain": [
       "Index(['user_uid', 'create_time', 'success', 'cancellation_time',\n",
       "       'payment_provider_cat_codes', 'payment_ux_cat_codes',\n",
       "       'trial_length_offer_cat_codes', 'sub_utm_channel_cat_codes',\n",
       "       'sub_utm_source_cat_codes', 'trial_start_day', 'trial_end_day',\n",
       "       'is_cancel_during_trial', 'day-1', 'day-2', 'day-3', 'day-4', 'day-5',\n",
       "       'day-6', 'day-7', 'day-8', 'day-9', 'day-10', 'day-11', 'day-12',\n",
       "       'day-13', 'day-14', 'day-15', 'day-16', 'day-17', 'day-18', 'day-19',\n",
       "       'day-20', 'day-21', 'day-22', 'day-23', 'day-24', 'day-25', 'day-26',\n",
       "       'day-27', 'day-28', 'day-29', 'day-30', 'day-31', 'comment_volume',\n",
       "       'comment_score', 'discussion_volume', 'discussion_score',\n",
       "       'follow_volume', 'projects_volume', 'projects_score', 'review_volume',\n",
       "       'rating_avg', 'payment_ux', 'trial_length_offer', 'sub_utm_channel'],\n",
       "      dtype='object')"
      ]
     },
     "execution_count": 15,
     "metadata": {},
     "output_type": "execute_result"
    }
   ],
   "source": [
    "df_main.keys()"
   ]
  },
  {
   "cell_type": "code",
   "execution_count": 16,
   "metadata": {},
   "outputs": [
    {
     "name": "stdout",
     "output_type": "stream",
     "text": [
      "(452, 36)\n"
     ]
    }
   ],
   "source": [
    "# by getting rid of NA values we got data with 452 observations\n",
    "\n",
    "print(df_for_clustering.shape)"
   ]
  },
  {
   "cell_type": "markdown",
   "metadata": {},
   "source": [
    "# Scaling the data and performing PCA"
   ]
  },
  {
   "cell_type": "code",
   "execution_count": 17,
   "metadata": {},
   "outputs": [],
   "source": [
    "# now we need to standardize the values in columns, so we don't have problem with scales\n",
    "scaled_data = df_for_clustering.copy()\n",
    "scaled_array = StandardScaler().fit_transform(df_for_clustering)\n",
    "scaled_data.loc[:, scaled_data.columns] = scaled_array"
   ]
  },
  {
   "cell_type": "code",
   "execution_count": 18,
   "metadata": {},
   "outputs": [
    {
     "data": {
      "text/html": [
       "<div>\n",
       "<style scoped>\n",
       "    .dataframe tbody tr th:only-of-type {\n",
       "        vertical-align: middle;\n",
       "    }\n",
       "\n",
       "    .dataframe tbody tr th {\n",
       "        vertical-align: top;\n",
       "    }\n",
       "\n",
       "    .dataframe thead th {\n",
       "        text-align: right;\n",
       "    }\n",
       "</style>\n",
       "<table border=\"1\" class=\"dataframe\">\n",
       "  <thead>\n",
       "    <tr style=\"text-align: right;\">\n",
       "      <th></th>\n",
       "      <th>day-1</th>\n",
       "      <th>day-2</th>\n",
       "      <th>day-3</th>\n",
       "      <th>day-4</th>\n",
       "      <th>day-5</th>\n",
       "      <th>day-6</th>\n",
       "      <th>day-7</th>\n",
       "      <th>day-8</th>\n",
       "      <th>day-9</th>\n",
       "      <th>day-10</th>\n",
       "      <th>...</th>\n",
       "      <th>day-27</th>\n",
       "      <th>day-28</th>\n",
       "      <th>day-29</th>\n",
       "      <th>day-30</th>\n",
       "      <th>day-31</th>\n",
       "      <th>follow_volume</th>\n",
       "      <th>projects_volume</th>\n",
       "      <th>projects_score</th>\n",
       "      <th>review_volume</th>\n",
       "      <th>rating_avg</th>\n",
       "    </tr>\n",
       "  </thead>\n",
       "  <tbody>\n",
       "    <tr>\n",
       "      <th>1132</th>\n",
       "      <td>0.412180</td>\n",
       "      <td>-0.727729</td>\n",
       "      <td>-0.655518</td>\n",
       "      <td>-0.560758</td>\n",
       "      <td>0.274451</td>\n",
       "      <td>0.524869</td>\n",
       "      <td>-0.525812</td>\n",
       "      <td>-0.266352</td>\n",
       "      <td>-0.485601</td>\n",
       "      <td>0.243141</td>\n",
       "      <td>...</td>\n",
       "      <td>1.786179</td>\n",
       "      <td>1.976004</td>\n",
       "      <td>-0.302616</td>\n",
       "      <td>-0.360500</td>\n",
       "      <td>1.467203</td>\n",
       "      <td>1.161699</td>\n",
       "      <td>1.318105</td>\n",
       "      <td>-0.337523</td>\n",
       "      <td>0.626420</td>\n",
       "      <td>0.709012</td>\n",
       "    </tr>\n",
       "    <tr>\n",
       "      <th>2603</th>\n",
       "      <td>-0.542760</td>\n",
       "      <td>-0.727729</td>\n",
       "      <td>0.457708</td>\n",
       "      <td>-0.560758</td>\n",
       "      <td>-0.562956</td>\n",
       "      <td>0.055606</td>\n",
       "      <td>1.720342</td>\n",
       "      <td>-0.499891</td>\n",
       "      <td>-0.498925</td>\n",
       "      <td>-0.415722</td>\n",
       "      <td>...</td>\n",
       "      <td>-0.342097</td>\n",
       "      <td>-0.377083</td>\n",
       "      <td>-0.351342</td>\n",
       "      <td>-0.276183</td>\n",
       "      <td>-0.318578</td>\n",
       "      <td>-0.048181</td>\n",
       "      <td>-0.446308</td>\n",
       "      <td>-0.337523</td>\n",
       "      <td>-0.492718</td>\n",
       "      <td>-1.318165</td>\n",
       "    </tr>\n",
       "    <tr>\n",
       "      <th>2653</th>\n",
       "      <td>-0.254128</td>\n",
       "      <td>0.143535</td>\n",
       "      <td>0.569316</td>\n",
       "      <td>0.802656</td>\n",
       "      <td>-0.562956</td>\n",
       "      <td>-0.567779</td>\n",
       "      <td>2.229378</td>\n",
       "      <td>-0.499891</td>\n",
       "      <td>0.501698</td>\n",
       "      <td>-0.046725</td>\n",
       "      <td>...</td>\n",
       "      <td>-0.342097</td>\n",
       "      <td>1.186719</td>\n",
       "      <td>1.117906</td>\n",
       "      <td>-0.360500</td>\n",
       "      <td>-0.318578</td>\n",
       "      <td>-0.451474</td>\n",
       "      <td>-0.446308</td>\n",
       "      <td>-0.337523</td>\n",
       "      <td>-0.492718</td>\n",
       "      <td>0.709012</td>\n",
       "    </tr>\n",
       "    <tr>\n",
       "      <th>2748</th>\n",
       "      <td>-0.813584</td>\n",
       "      <td>-0.727729</td>\n",
       "      <td>-0.073698</td>\n",
       "      <td>-0.560758</td>\n",
       "      <td>-0.562956</td>\n",
       "      <td>1.137911</td>\n",
       "      <td>-0.526508</td>\n",
       "      <td>-0.499891</td>\n",
       "      <td>-0.498925</td>\n",
       "      <td>-0.477927</td>\n",
       "      <td>...</td>\n",
       "      <td>-0.342097</td>\n",
       "      <td>-0.377083</td>\n",
       "      <td>-0.351342</td>\n",
       "      <td>0.356391</td>\n",
       "      <td>-0.318578</td>\n",
       "      <td>-0.451474</td>\n",
       "      <td>-0.446308</td>\n",
       "      <td>-0.337523</td>\n",
       "      <td>-0.492718</td>\n",
       "      <td>-1.318165</td>\n",
       "    </tr>\n",
       "    <tr>\n",
       "      <th>3460</th>\n",
       "      <td>1.314031</td>\n",
       "      <td>0.129629</td>\n",
       "      <td>1.410815</td>\n",
       "      <td>-0.428175</td>\n",
       "      <td>-0.562956</td>\n",
       "      <td>1.005855</td>\n",
       "      <td>-0.097096</td>\n",
       "      <td>-0.499891</td>\n",
       "      <td>-0.498925</td>\n",
       "      <td>-0.477927</td>\n",
       "      <td>...</td>\n",
       "      <td>-0.046112</td>\n",
       "      <td>2.817416</td>\n",
       "      <td>1.680232</td>\n",
       "      <td>-0.360500</td>\n",
       "      <td>0.040844</td>\n",
       "      <td>-0.249828</td>\n",
       "      <td>-0.446308</td>\n",
       "      <td>-0.337523</td>\n",
       "      <td>0.066851</td>\n",
       "      <td>-2.331753</td>\n",
       "    </tr>\n",
       "  </tbody>\n",
       "</table>\n",
       "<p>5 rows × 36 columns</p>\n",
       "</div>"
      ],
      "text/plain": [
       "         day-1     day-2     day-3     day-4     day-5     day-6     day-7  \\\n",
       "1132  0.412180 -0.727729 -0.655518 -0.560758  0.274451  0.524869 -0.525812   \n",
       "2603 -0.542760 -0.727729  0.457708 -0.560758 -0.562956  0.055606  1.720342   \n",
       "2653 -0.254128  0.143535  0.569316  0.802656 -0.562956 -0.567779  2.229378   \n",
       "2748 -0.813584 -0.727729 -0.073698 -0.560758 -0.562956  1.137911 -0.526508   \n",
       "3460  1.314031  0.129629  1.410815 -0.428175 -0.562956  1.005855 -0.097096   \n",
       "\n",
       "         day-8     day-9    day-10  ...    day-27    day-28    day-29  \\\n",
       "1132 -0.266352 -0.485601  0.243141  ...  1.786179  1.976004 -0.302616   \n",
       "2603 -0.499891 -0.498925 -0.415722  ... -0.342097 -0.377083 -0.351342   \n",
       "2653 -0.499891  0.501698 -0.046725  ... -0.342097  1.186719  1.117906   \n",
       "2748 -0.499891 -0.498925 -0.477927  ... -0.342097 -0.377083 -0.351342   \n",
       "3460 -0.499891 -0.498925 -0.477927  ... -0.046112  2.817416  1.680232   \n",
       "\n",
       "        day-30    day-31  follow_volume  projects_volume  projects_score  \\\n",
       "1132 -0.360500  1.467203       1.161699         1.318105       -0.337523   \n",
       "2603 -0.276183 -0.318578      -0.048181        -0.446308       -0.337523   \n",
       "2653 -0.360500 -0.318578      -0.451474        -0.446308       -0.337523   \n",
       "2748  0.356391 -0.318578      -0.451474        -0.446308       -0.337523   \n",
       "3460 -0.360500  0.040844      -0.249828        -0.446308       -0.337523   \n",
       "\n",
       "      review_volume  rating_avg  \n",
       "1132       0.626420    0.709012  \n",
       "2603      -0.492718   -1.318165  \n",
       "2653      -0.492718    0.709012  \n",
       "2748      -0.492718   -1.318165  \n",
       "3460       0.066851   -2.331753  \n",
       "\n",
       "[5 rows x 36 columns]"
      ]
     },
     "execution_count": 18,
     "metadata": {},
     "output_type": "execute_result"
    }
   ],
   "source": [
    "scaled_data.head()"
   ]
  },
  {
   "cell_type": "code",
   "execution_count": 19,
   "metadata": {},
   "outputs": [
    {
     "name": "stdout",
     "output_type": "stream",
     "text": [
      "Explained variation per principal component: [0.29042634 0.05900519]\n",
      "Cumulative variance explained by 2 principal components: 34.94%\n"
     ]
    }
   ],
   "source": [
    "# Running Principal Components Analysis in order to find most important features\n",
    "\n",
    "pca_2 = PCA(n_components=2)\n",
    "pca_2_result = pca_2.fit_transform(scaled_data)\n",
    "print('Explained variation per principal component: {}'.format(pca_2.explained_variance_ratio_))\n",
    "\n",
    "print('Cumulative variance explained by 2 principal components: {:.2%}'.format(np.sum(pca_2.explained_variance_ratio_)))\n",
    "\n",
    "# we got that by reducing dimension of features we still maintain roughly 35% of our original data"
   ]
  },
  {
   "cell_type": "code",
   "execution_count": 20,
   "metadata": {},
   "outputs": [
    {
     "name": "stdout",
     "output_type": "stream",
     "text": [
      "\n",
      "\n",
      "          day-1     day-2     day-3     day-4     day-5     day-6     day-7  \\\n",
      "PC_1  0.142604  0.120926  0.153715  0.179817  0.158221  0.165040  0.182852   \n",
      "PC_2  0.014941  0.043816  0.061735  0.053126  0.082047  0.184113  0.040794   \n",
      "\n",
      "         day-8     day-9    day-10  ...    day-27    day-28    day-29  \\\n",
      "PC_1  0.181815  0.159827  0.161402  ...  0.204800  0.168825  0.184236   \n",
      "PC_2  0.089418  0.098553  0.227311  ...  0.140281  0.295261  0.265990   \n",
      "\n",
      "        day-30    day-31  follow_volume  projects_volume  projects_score  \\\n",
      "PC_1  0.156963  0.146729       0.072020         0.099355        0.013815   \n",
      "PC_2  0.267946  0.247659       0.192206         0.229461        0.083171   \n",
      "\n",
      "      review_volume  rating_avg  \n",
      "PC_1       0.135825    0.034607  \n",
      "PC_2       0.215455    0.090453  \n",
      "\n",
      "[2 rows x 36 columns]\n"
     ]
    }
   ],
   "source": [
    "# Results from pca.components --- finding most important features\n",
    "\n",
    "dataset_pca = pd.DataFrame(abs(pca_2.components_), columns=scaled_data.columns, \n",
    "                           index=['PC_1', 'PC_2'])\n",
    "print('\\n\\n', dataset_pca)"
   ]
  },
  {
   "cell_type": "code",
   "execution_count": 21,
   "metadata": {},
   "outputs": [
    {
     "name": "stdout",
     "output_type": "stream",
     "text": [
      "As per PC 1:\n",
      " day-25    0.210817\n",
      "day-26    0.211629\n",
      "day-27    0.204800\n",
      "Name: PC_1, dtype: float64\n"
     ]
    }
   ],
   "source": [
    "print('As per PC 1:\\n', (dataset_pca[dataset_pca > 0.2].iloc[0]).dropna())"
   ]
  },
  {
   "cell_type": "code",
   "execution_count": 22,
   "metadata": {},
   "outputs": [
    {
     "name": "stdout",
     "output_type": "stream",
     "text": [
      "As per PC 2:\n",
      " day-28    0.295261\n",
      "day-29    0.265990\n",
      "day-30    0.267946\n",
      "Name: PC_2, dtype: float64\n"
     ]
    }
   ],
   "source": [
    "print('As per PC 2:\\n', (dataset_pca[dataset_pca > 0.25].iloc[1]).dropna())"
   ]
  },
  {
   "cell_type": "markdown",
   "metadata": {},
   "source": [
    "# Performing K-means clustering"
   ]
  },
  {
   "cell_type": "code",
   "execution_count": 23,
   "metadata": {},
   "outputs": [
    {
     "name": "stdout",
     "output_type": "stream",
     "text": [
      "Parameter: {'n_clusters': 2} Score 0.5494592976454078\n",
      "Parameter: {'n_clusters': 3} Score 0.2784510869829641\n",
      "Parameter: {'n_clusters': 4} Score 0.2659230653771705\n",
      "Parameter: {'n_clusters': 5} Score 0.245839572605324\n",
      "Parameter: {'n_clusters': 6} Score 0.244041497106784\n"
     ]
    }
   ],
   "source": [
    "# finding the optimal number of clusters\n",
    "\n",
    "# candidate values for our number of cluster\n",
    "parameters = [2, 3, 4, 5, 6]\n",
    "parameter_grid = ParameterGrid({'n_clusters': parameters})\n",
    "best_score = -1\n",
    "kmeans_model = KMeans()     # instantiating KMeans model\n",
    "silhouette_scores = []\n",
    "# evaluation based on silhouette_score\n",
    "for p in parameter_grid:\n",
    "    kmeans_model.set_params(**p)   \n",
    "    kmeans_model.fit(scaled_data) \n",
    "    ss = metrics.silhouette_score(scaled_data, kmeans_model.labels_)   \n",
    "    silhouette_scores += [ss]     \n",
    "    print('Parameter:', p, 'Score', ss)\n",
    "    # check p which has the best score\n",
    "    if ss > best_score:\n",
    "        best_score = ss\n",
    "        best_grid = p\n"
   ]
  },
  {
   "cell_type": "code",
   "execution_count": 24,
   "metadata": {},
   "outputs": [
    {
     "data": {
      "image/png": "[encoded data removed]",
      "text/plain": [
       "<Figure size 432x288 with 1 Axes>"
      ]
     },
     "metadata": {
      "needs_background": "light"
     },
     "output_type": "display_data"
    }
   ],
   "source": [
    "# plotting silhouette score\n",
    "plt.bar(range(len(silhouette_scores)), list(silhouette_scores), align='center', color='#722f59', width=0.5)\n",
    "plt.xticks(range(len(silhouette_scores)), list(parameters))\n",
    "plt.title('Silhouette Score', fontweight='bold')\n",
    "plt.xlabel('Number of Clusters')\n",
    "plt.show()"
   ]
  },
  {
   "cell_type": "code",
   "execution_count": 25,
   "metadata": {},
   "outputs": [
    {
     "data": {
      "text/html": [
       "<style>#sk-container-id-1 {color: black;background-color: white;}#sk-container-id-1 pre{padding: 0;}#sk-container-id-1 div.sk-toggleable {background-color: white;}#sk-container-id-1 label.sk-toggleable__label {cursor: pointer;display: block;width: 100%;margin-bottom: 0;padding: 0.3em;box-sizing: border-box;text-align: center;}#sk-container-id-1 label.sk-toggleable__label-arrow:before {content: \"▸\";float: left;margin-right: 0.25em;color: #696969;}#sk-container-id-1 label.sk-toggleable__label-arrow:hover:before {color: black;}#sk-container-id-1 div.sk-estimator:hover label.sk-toggleable__label-arrow:before {color: black;}#sk-container-id-1 div.sk-toggleable__content {max-height: 0;max-width: 0;overflow: hidden;text-align: left;background-color: #f0f8ff;}#sk-container-id-1 div.sk-toggleable__content pre {margin: 0.2em;color: black;border-radius: 0.25em;background-color: #f0f8ff;}#sk-container-id-1 input.sk-toggleable__control:checked~div.sk-toggleable__content {max-height: 200px;max-width: 100%;overflow: auto;}#sk-container-id-1 input.sk-toggleable__control:checked~label.sk-toggleable__label-arrow:before {content: \"▾\";}#sk-container-id-1 div.sk-estimator input.sk-toggleable__control:checked~label.sk-toggleable__label {background-color: #d4ebff;}#sk-container-id-1 div.sk-label input.sk-toggleable__control:checked~label.sk-toggleable__label {background-color: #d4ebff;}#sk-container-id-1 input.sk-hidden--visually {border: 0;clip: rect(1px 1px 1px 1px);clip: rect(1px, 1px, 1px, 1px);height: 1px;margin: -1px;overflow: hidden;padding: 0;position: absolute;width: 1px;}#sk-container-id-1 div.sk-estimator {font-family: monospace;background-color: #f0f8ff;border: 1px dotted black;border-radius: 0.25em;box-sizing: border-box;margin-bottom: 0.5em;}#sk-container-id-1 div.sk-estimator:hover {background-color: #d4ebff;}#sk-container-id-1 div.sk-parallel-item::after {content: \"\";width: 100%;border-bottom: 1px solid gray;flex-grow: 1;}#sk-container-id-1 div.sk-label:hover label.sk-toggleable__label {background-color: #d4ebff;}#sk-container-id-1 div.sk-serial::before {content: \"\";position: absolute;border-left: 1px solid gray;box-sizing: border-box;top: 0;bottom: 0;left: 50%;z-index: 0;}#sk-container-id-1 div.sk-serial {display: flex;flex-direction: column;align-items: center;background-color: white;padding-right: 0.2em;padding-left: 0.2em;position: relative;}#sk-container-id-1 div.sk-item {position: relative;z-index: 1;}#sk-container-id-1 div.sk-parallel {display: flex;align-items: stretch;justify-content: center;background-color: white;position: relative;}#sk-container-id-1 div.sk-item::before, #sk-container-id-1 div.sk-parallel-item::before {content: \"\";position: absolute;border-left: 1px solid gray;box-sizing: border-box;top: 0;bottom: 0;left: 50%;z-index: -1;}#sk-container-id-1 div.sk-parallel-item {display: flex;flex-direction: column;z-index: 1;position: relative;background-color: white;}#sk-container-id-1 div.sk-parallel-item:first-child::after {align-self: flex-end;width: 50%;}#sk-container-id-1 div.sk-parallel-item:last-child::after {align-self: flex-start;width: 50%;}#sk-container-id-1 div.sk-parallel-item:only-child::after {width: 0;}#sk-container-id-1 div.sk-dashed-wrapped {border: 1px dashed gray;margin: 0 0.4em 0.5em 0.4em;box-sizing: border-box;padding-bottom: 0.4em;background-color: white;}#sk-container-id-1 div.sk-label label {font-family: monospace;font-weight: bold;display: inline-block;line-height: 1.2em;}#sk-container-id-1 div.sk-label-container {text-align: center;}#sk-container-id-1 div.sk-container {/* jupyter's `normalize.less` sets `[hidden] { display: none; }` but bootstrap.min.css set `[hidden] { display: none !important; }` so we also need the `!important` here to be able to override the default hidden behavior on the sphinx rendered scikit-learn.org. See: https://github.com/scikit-learn/scikit-learn/issues/21755 */display: inline-block !important;position: relative;}#sk-container-id-1 div.sk-text-repr-fallback {display: none;}</style><div id=\"sk-container-id-1\" class=\"sk-top-container\"><div class=\"sk-text-repr-fallback\"><pre>KMeans(n_clusters=2)</pre><b>In a Jupyter environment, please rerun this cell to show the HTML representation or trust the notebook. <br />On GitHub, the HTML representation is unable to render, please try loading this page with nbviewer.org.</b></div><div class=\"sk-container\" hidden><div class=\"sk-item\"><div class=\"sk-estimator sk-toggleable\"><input class=\"sk-toggleable__control sk-hidden--visually\" id=\"sk-estimator-id-1\" type=\"checkbox\" checked><label for=\"sk-estimator-id-1\" class=\"sk-toggleable__label sk-toggleable__label-arrow\">KMeans</label><div class=\"sk-toggleable__content\"><pre>KMeans(n_clusters=2)</pre></div></div></div></div></div>"
      ],
      "text/plain": [
       "KMeans(n_clusters=2)"
      ]
     },
     "execution_count": 25,
     "metadata": {},
     "output_type": "execute_result"
    }
   ],
   "source": [
    "# we saw that Kmeans with 2 clusters has the highest score, so we'll continue the analysis by \n",
    "# setting number of clusters = 2\n",
    "\n",
    "kmeans = KMeans(n_clusters=2)    \n",
    "kmeans.fit(scaled_data)"
   ]
  },
  {
   "cell_type": "code",
   "execution_count": 26,
   "metadata": {},
   "outputs": [
    {
     "name": "stderr",
     "output_type": "stream",
     "text": [
      "/usr/lib/python3.10/site-packages/sklearn/base.py:450: UserWarning: X does not have valid feature names, but PCA was fitted with feature names\n",
      "  warnings.warn(\n"
     ]
    }
   ],
   "source": [
    "centroids = kmeans.cluster_centers_\n",
    "centroids_pca = pca_2.transform(centroids)"
   ]
  },
  {
   "cell_type": "code",
   "execution_count": 27,
   "metadata": {},
   "outputs": [
    {
     "data": {
      "image/png": "[encoded data removed]",
      "text/plain": [
       "<Figure size 432x288 with 1 Axes>"
      ]
     },
     "metadata": {
      "needs_background": "light"
     },
     "output_type": "display_data"
    }
   ],
   "source": [
    "x = pca_2_result[:, 0]\n",
    "y = pca_2_result[:, 1]\n",
    "\n",
    "plt.scatter(x, y, c=kmeans.labels_, alpha=0.5, s=200)  # plot different colors per cluster\n",
    "plt.title('Subscriber clusters')\n",
    "plt.xlabel('PCA 1')\n",
    "plt.ylabel('PCA 2')\n",
    "\n",
    "plt.scatter(centroids_pca[:, 0], centroids_pca[:, 1], marker='X', s=200, linewidths=1.5,\n",
    "                color='red', edgecolors=\"black\", lw=1.5)\n",
    "\n",
    "plt.show()"
   ]
  },
  {
   "cell_type": "code",
   "execution_count": 28,
   "metadata": {},
   "outputs": [],
   "source": [
    "clustered_data = df_for_clustering.copy()\n",
    "clustered_data[\"labels\"] = kmeans.labels_"
   ]
  },
  {
   "cell_type": "code",
   "execution_count": 29,
   "metadata": {},
   "outputs": [
    {
     "data": {
      "text/html": [
       "<div>\n",
       "<style scoped>\n",
       "    .dataframe tbody tr th:only-of-type {\n",
       "        vertical-align: middle;\n",
       "    }\n",
       "\n",
       "    .dataframe tbody tr th {\n",
       "        vertical-align: top;\n",
       "    }\n",
       "\n",
       "    .dataframe thead th {\n",
       "        text-align: right;\n",
       "    }\n",
       "</style>\n",
       "<table border=\"1\" class=\"dataframe\">\n",
       "  <thead>\n",
       "    <tr style=\"text-align: right;\">\n",
       "      <th></th>\n",
       "      <th>day-1</th>\n",
       "      <th>day-2</th>\n",
       "      <th>day-3</th>\n",
       "      <th>day-4</th>\n",
       "      <th>day-5</th>\n",
       "      <th>day-6</th>\n",
       "      <th>day-7</th>\n",
       "      <th>day-8</th>\n",
       "      <th>day-9</th>\n",
       "      <th>day-10</th>\n",
       "      <th>...</th>\n",
       "      <th>day-28</th>\n",
       "      <th>day-29</th>\n",
       "      <th>day-30</th>\n",
       "      <th>day-31</th>\n",
       "      <th>follow_volume</th>\n",
       "      <th>projects_volume</th>\n",
       "      <th>projects_score</th>\n",
       "      <th>review_volume</th>\n",
       "      <th>rating_avg</th>\n",
       "      <th>labels</th>\n",
       "    </tr>\n",
       "  </thead>\n",
       "  <tbody>\n",
       "    <tr>\n",
       "      <th>1132</th>\n",
       "      <td>3770.0</td>\n",
       "      <td>0.0</td>\n",
       "      <td>128.0</td>\n",
       "      <td>0.0</td>\n",
       "      <td>2660.0</td>\n",
       "      <td>3169.0</td>\n",
       "      <td>2.0</td>\n",
       "      <td>675.0</td>\n",
       "      <td>31.0</td>\n",
       "      <td>1704.0</td>\n",
       "      <td>...</td>\n",
       "      <td>5417.0</td>\n",
       "      <td>111.0</td>\n",
       "      <td>0.0</td>\n",
       "      <td>3468.0</td>\n",
       "      <td>9.0</td>\n",
       "      <td>4.0</td>\n",
       "      <td>0.0</td>\n",
       "      <td>3.0</td>\n",
       "      <td>4.0</td>\n",
       "      <td>0</td>\n",
       "    </tr>\n",
       "    <tr>\n",
       "      <th>2603</th>\n",
       "      <td>928.0</td>\n",
       "      <td>0.0</td>\n",
       "      <td>3639.0</td>\n",
       "      <td>0.0</td>\n",
       "      <td>0.0</td>\n",
       "      <td>1808.0</td>\n",
       "      <td>6462.0</td>\n",
       "      <td>0.0</td>\n",
       "      <td>0.0</td>\n",
       "      <td>147.0</td>\n",
       "      <td>...</td>\n",
       "      <td>0.0</td>\n",
       "      <td>0.0</td>\n",
       "      <td>213.0</td>\n",
       "      <td>0.0</td>\n",
       "      <td>3.0</td>\n",
       "      <td>1.0</td>\n",
       "      <td>0.0</td>\n",
       "      <td>1.0</td>\n",
       "      <td>3.0</td>\n",
       "      <td>0</td>\n",
       "    </tr>\n",
       "    <tr>\n",
       "      <th>2653</th>\n",
       "      <td>1787.0</td>\n",
       "      <td>3446.0</td>\n",
       "      <td>3991.0</td>\n",
       "      <td>4535.0</td>\n",
       "      <td>0.0</td>\n",
       "      <td>0.0</td>\n",
       "      <td>7926.0</td>\n",
       "      <td>0.0</td>\n",
       "      <td>2328.0</td>\n",
       "      <td>1019.0</td>\n",
       "      <td>...</td>\n",
       "      <td>3600.0</td>\n",
       "      <td>3347.0</td>\n",
       "      <td>0.0</td>\n",
       "      <td>0.0</td>\n",
       "      <td>1.0</td>\n",
       "      <td>1.0</td>\n",
       "      <td>0.0</td>\n",
       "      <td>1.0</td>\n",
       "      <td>4.0</td>\n",
       "      <td>0</td>\n",
       "    </tr>\n",
       "    <tr>\n",
       "      <th>2748</th>\n",
       "      <td>122.0</td>\n",
       "      <td>0.0</td>\n",
       "      <td>1963.0</td>\n",
       "      <td>0.0</td>\n",
       "      <td>0.0</td>\n",
       "      <td>4947.0</td>\n",
       "      <td>0.0</td>\n",
       "      <td>0.0</td>\n",
       "      <td>0.0</td>\n",
       "      <td>0.0</td>\n",
       "      <td>...</td>\n",
       "      <td>0.0</td>\n",
       "      <td>0.0</td>\n",
       "      <td>1811.0</td>\n",
       "      <td>0.0</td>\n",
       "      <td>1.0</td>\n",
       "      <td>1.0</td>\n",
       "      <td>0.0</td>\n",
       "      <td>1.0</td>\n",
       "      <td>3.0</td>\n",
       "      <td>0</td>\n",
       "    </tr>\n",
       "    <tr>\n",
       "      <th>3460</th>\n",
       "      <td>6454.0</td>\n",
       "      <td>3391.0</td>\n",
       "      <td>6645.0</td>\n",
       "      <td>441.0</td>\n",
       "      <td>0.0</td>\n",
       "      <td>4564.0</td>\n",
       "      <td>1235.0</td>\n",
       "      <td>0.0</td>\n",
       "      <td>0.0</td>\n",
       "      <td>0.0</td>\n",
       "      <td>...</td>\n",
       "      <td>7354.0</td>\n",
       "      <td>4628.0</td>\n",
       "      <td>0.0</td>\n",
       "      <td>698.0</td>\n",
       "      <td>2.0</td>\n",
       "      <td>1.0</td>\n",
       "      <td>0.0</td>\n",
       "      <td>2.0</td>\n",
       "      <td>2.5</td>\n",
       "      <td>0</td>\n",
       "    </tr>\n",
       "  </tbody>\n",
       "</table>\n",
       "<p>5 rows × 37 columns</p>\n",
       "</div>"
      ],
      "text/plain": [
       "       day-1   day-2   day-3   day-4   day-5   day-6   day-7  day-8   day-9  \\\n",
       "1132  3770.0     0.0   128.0     0.0  2660.0  3169.0     2.0  675.0    31.0   \n",
       "2603   928.0     0.0  3639.0     0.0     0.0  1808.0  6462.0    0.0     0.0   \n",
       "2653  1787.0  3446.0  3991.0  4535.0     0.0     0.0  7926.0    0.0  2328.0   \n",
       "2748   122.0     0.0  1963.0     0.0     0.0  4947.0     0.0    0.0     0.0   \n",
       "3460  6454.0  3391.0  6645.0   441.0     0.0  4564.0  1235.0    0.0     0.0   \n",
       "\n",
       "      day-10  ...  day-28  day-29  day-30  day-31  follow_volume  \\\n",
       "1132  1704.0  ...  5417.0   111.0     0.0  3468.0            9.0   \n",
       "2603   147.0  ...     0.0     0.0   213.0     0.0            3.0   \n",
       "2653  1019.0  ...  3600.0  3347.0     0.0     0.0            1.0   \n",
       "2748     0.0  ...     0.0     0.0  1811.0     0.0            1.0   \n",
       "3460     0.0  ...  7354.0  4628.0     0.0   698.0            2.0   \n",
       "\n",
       "      projects_volume  projects_score  review_volume  rating_avg  labels  \n",
       "1132              4.0             0.0            3.0         4.0       0  \n",
       "2603              1.0             0.0            1.0         3.0       0  \n",
       "2653              1.0             0.0            1.0         4.0       0  \n",
       "2748              1.0             0.0            1.0         3.0       0  \n",
       "3460              1.0             0.0            2.0         2.5       0  \n",
       "\n",
       "[5 rows x 37 columns]"
      ]
     },
     "execution_count": 29,
     "metadata": {},
     "output_type": "execute_result"
    }
   ],
   "source": [
    "clustered_data.head()"
   ]
  },
  {
   "cell_type": "code",
   "execution_count": 30,
   "metadata": {},
   "outputs": [
    {
     "data": {
      "text/html": [
       "<div>\n",
       "<style scoped>\n",
       "    .dataframe tbody tr th:only-of-type {\n",
       "        vertical-align: middle;\n",
       "    }\n",
       "\n",
       "    .dataframe tbody tr th {\n",
       "        vertical-align: top;\n",
       "    }\n",
       "\n",
       "    .dataframe thead th {\n",
       "        text-align: right;\n",
       "    }\n",
       "</style>\n",
       "<table border=\"1\" class=\"dataframe\">\n",
       "  <thead>\n",
       "    <tr style=\"text-align: right;\">\n",
       "      <th></th>\n",
       "      <th>labels</th>\n",
       "      <th>0</th>\n",
       "      <th>1</th>\n",
       "    </tr>\n",
       "  </thead>\n",
       "  <tbody>\n",
       "    <tr>\n",
       "      <th rowspan=\"2\" valign=\"top\">day-1</th>\n",
       "      <th>median</th>\n",
       "      <td>1554.000000</td>\n",
       "      <td>4071.000000</td>\n",
       "    </tr>\n",
       "    <tr>\n",
       "      <th>mean</th>\n",
       "      <td>2250.062954</td>\n",
       "      <td>5648.717949</td>\n",
       "    </tr>\n",
       "    <tr>\n",
       "      <th rowspan=\"2\" valign=\"top\">day-2</th>\n",
       "      <th>median</th>\n",
       "      <td>1521.000000</td>\n",
       "      <td>5886.000000</td>\n",
       "    </tr>\n",
       "    <tr>\n",
       "      <th>mean</th>\n",
       "      <td>2459.665860</td>\n",
       "      <td>7311.461538</td>\n",
       "    </tr>\n",
       "    <tr>\n",
       "      <th>day-3</th>\n",
       "      <th>median</th>\n",
       "      <td>546.000000</td>\n",
       "      <td>6536.000000</td>\n",
       "    </tr>\n",
       "    <tr>\n",
       "      <th>...</th>\n",
       "      <th>...</th>\n",
       "      <td>...</td>\n",
       "      <td>...</td>\n",
       "    </tr>\n",
       "    <tr>\n",
       "      <th>projects_score</th>\n",
       "      <th>mean</th>\n",
       "      <td>0.150121</td>\n",
       "      <td>0.205128</td>\n",
       "    </tr>\n",
       "    <tr>\n",
       "      <th rowspan=\"2\" valign=\"top\">review_volume</th>\n",
       "      <th>median</th>\n",
       "      <td>1.000000</td>\n",
       "      <td>2.000000</td>\n",
       "    </tr>\n",
       "    <tr>\n",
       "      <th>mean</th>\n",
       "      <td>1.668281</td>\n",
       "      <td>4.128205</td>\n",
       "    </tr>\n",
       "    <tr>\n",
       "      <th rowspan=\"2\" valign=\"top\">rating_avg</th>\n",
       "      <th>median</th>\n",
       "      <td>4.000000</td>\n",
       "      <td>4.000000</td>\n",
       "    </tr>\n",
       "    <tr>\n",
       "      <th>mean</th>\n",
       "      <td>3.639790</td>\n",
       "      <td>3.760976</td>\n",
       "    </tr>\n",
       "  </tbody>\n",
       "</table>\n",
       "<p>72 rows × 2 columns</p>\n",
       "</div>"
      ],
      "text/plain": [
       "labels                           0            1\n",
       "day-1          median  1554.000000  4071.000000\n",
       "               mean    2250.062954  5648.717949\n",
       "day-2          median  1521.000000  5886.000000\n",
       "               mean    2459.665860  7311.461538\n",
       "day-3          median   546.000000  6536.000000\n",
       "...                            ...          ...\n",
       "projects_score mean       0.150121     0.205128\n",
       "review_volume  median     1.000000     2.000000\n",
       "               mean       1.668281     4.128205\n",
       "rating_avg     median     4.000000     4.000000\n",
       "               mean       3.639790     3.760976\n",
       "\n",
       "[72 rows x 2 columns]"
      ]
     },
     "execution_count": 30,
     "metadata": {},
     "output_type": "execute_result"
    }
   ],
   "source": [
    "# we can look at the data grouped for each label\n",
    "clustered_data.groupby('labels').agg(['median' ,'mean']).T"
   ]
  },
  {
   "cell_type": "markdown",
   "metadata": {},
   "source": [
    "## K-prototype for categorical variables. "
   ]
  },
  {
   "cell_type": "code",
   "execution_count": 31,
   "metadata": {},
   "outputs": [
    {
     "ename": "ModuleNotFoundError",
     "evalue": "No module named 'kmodes'",
     "output_type": "error",
     "traceback": [
      "\u001b[0;31m---------------------------------------------------------------------------\u001b[0m",
      "\u001b[0;31mModuleNotFoundError\u001b[0m                       Traceback (most recent call last)",
      "Input \u001b[0;32mIn [31]\u001b[0m, in \u001b[0;36m<cell line: 1>\u001b[0;34m()\u001b[0m\n\u001b[0;32m----> 1\u001b[0m \u001b[38;5;28;01mfrom\u001b[39;00m \u001b[38;5;21;01mkmodes\u001b[39;00m\u001b[38;5;21;01m.\u001b[39;00m\u001b[38;5;21;01mkprototypes\u001b[39;00m \u001b[38;5;28;01mimport\u001b[39;00m KPrototypes\n",
      "\u001b[0;31mModuleNotFoundError\u001b[0m: No module named 'kmodes'"
     ]
    }
   ],
   "source": [
    "from kmodes.kprototypes import KPrototypes"
   ]
  },
  {
   "cell_type": "code",
   "execution_count": null,
   "metadata": {},
   "outputs": [],
   "source": [
    "df_for_clustering2 = df_main.loc[df_main[\"payment_ux_cat_codes\"]>=0].loc[:,['sub_utm_channel', 'payment_ux',\n",
    "                                                                         'trial_length_offer', 'day-1']].dropna()\n",
    "\n",
    "\n",
    "#array_1 = df_success_sample[['sub_utm_channel', 'trial_length_offer', 'day-1']].values\n",
    "#categorical_index = [0, 1]"
   ]
  },
  {
   "cell_type": "code",
   "execution_count": null,
   "metadata": {},
   "outputs": [],
   "source": [
    "print(df_for_clustering2.shape)\n",
    "df_for_clustering2.head()"
   ]
  },
  {
   "cell_type": "code",
   "execution_count": null,
   "metadata": {},
   "outputs": [],
   "source": [
    "# now we need to standardize the values in columns, so we don't have problem with scales\n",
    "sample_for_clustering2 = df_for_clustering2.sample(frac=0.1, replace=False, random_state=1)\n",
    "scaled_sample2 = sample_for_clustering2.copy()\n",
    "scaled_array2 = StandardScaler().fit_transform(sample_for_clustering2[['day-1']])\n",
    "scaled_sample2.loc[:, 'day-1'] = scaled_array2"
   ]
  },
  {
   "cell_type": "code",
   "execution_count": null,
   "metadata": {},
   "outputs": [],
   "source": [
    "print(scaled_sample2.shape)\n",
    "scaled_sample2.head()"
   ]
  },
  {
   "cell_type": "code",
   "execution_count": null,
   "metadata": {},
   "outputs": [],
   "source": [
    "# dataframe to an array...changed to sample data\n",
    "array_1 = scaled_sample2.values\n",
    "categorical_index = [0, 1, 2]\n",
    "\n",
    "model_2 = KPrototypes(n_clusters=2, init='Huang', random_state=42, n_jobs=-1)\n",
    "model_2.fit_predict(array_1, categorical=categorical_index)\n",
    "print(model_2.cost_)"
   ]
  },
  {
   "cell_type": "code",
   "execution_count": null,
   "metadata": {},
   "outputs": [],
   "source": [
    "sample2_labeled = sample_for_clustering2.copy()\n",
    "sample2_labeled.loc[:,'labels'] = model_2.labels_"
   ]
  },
  {
   "cell_type": "code",
   "execution_count": null,
   "metadata": {},
   "outputs": [],
   "source": [
    "sample2_labeled.shape"
   ]
  },
  {
   "cell_type": "code",
   "execution_count": null,
   "metadata": {},
   "outputs": [],
   "source": [
    "import plotly.express as px\n",
    "\n",
    "fig = px.scatter(sample2_labeled.sample(frac=0.01, replace=False, random_state=1)\n",
    "                 , x=\"day-1\", y=\"labels\", color='labels')\n",
    "fig.show()"
   ]
  },
  {
   "cell_type": "code",
   "execution_count": null,
   "metadata": {},
   "outputs": [],
   "source": [
    "#fig2 = px.scatter(sample2_labeled.sample(frac=0.01, replace=False, random_state=1)\n",
    "                 #, x=\"sub_utm_channel\", y=\"labels\", color='labels')\n",
    "#fig2.show()"
   ]
  },
  {
   "cell_type": "code",
   "execution_count": null,
   "metadata": {},
   "outputs": [],
   "source": [
    "# WIP"
   ]
  },
  {
   "cell_type": "code",
   "execution_count": null,
   "metadata": {
    "collapsed": true,
    "jupyter": {
     "outputs_hidden": true
    }
   },
   "outputs": [],
   "source": []
  },
  {
   "cell_type": "code",
   "execution_count": null,
   "metadata": {
    "collapsed": true,
    "jupyter": {
     "outputs_hidden": true
    }
   },
   "outputs": [],
   "source": []
  }
 ],
 "metadata": {
  "kernelspec": {
   "display_name": "Python 3 (ipykernel)",
   "language": "python",
   "name": "python3"
  },
  "language_info": {
   "codemirror_mode": {
    "name": "ipython",
    "version": 3
   },
   "file_extension": ".py",
   "mimetype": "text/x-python",
   "name": "python",
   "nbconvert_exporter": "python",
   "pygments_lexer": "ipython3",
   "version": "3.10.5"
  }
 },
 "nbformat": 4,
 "nbformat_minor": 4
}
