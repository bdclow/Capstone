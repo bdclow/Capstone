{
 "cells": [
  {
   "cell_type": "code",
   "execution_count": 9,
   "metadata": {},
   "outputs": [],
   "source": [
    "import pandas as pd\n",
    "pd.options.mode.chained_assignment = None\n",
    "import numpy as np"
   ]
  },
  {
   "cell_type": "code",
   "execution_count": 10,
   "metadata": {},
   "outputs": [
    {
     "name": "stderr",
     "output_type": "stream",
     "text": [
      "/Users/travisstowe/opt/anaconda3/lib/python3.8/site-packages/IPython/core/interactiveshell.py:3146: DtypeWarning: Columns (24,53) have mixed types.Specify dtype option on import or set low_memory=False.\n",
      "  has_raised = await self.run_ast_nodes(code_ast.body, cell_name,\n"
     ]
    }
   ],
   "source": [
    "# pull starts raw data\n",
    "starts_df = pd.read_csv('~/capstone_data/skillshare_2022_starts.csv')"
   ]
  },
  {
   "cell_type": "code",
   "execution_count": 11,
   "metadata": {},
   "outputs": [],
   "source": [
    "# filter starts_df to our needed peramenters.\n",
    "# only annual\n",
    "starts_df = starts_df[starts_df['plan_length'] == 12]\n",
    "# not B2B\n",
    "starts_df = starts_df[starts_df['is_team'] == False]\n",
    "# no scholarships\n",
    "starts_df = starts_df[starts_df['is_scholarship'] == False]\n",
    "# has a free trial\n",
    "starts_df = starts_df[starts_df['is_direct_to_paid'] == False]\n",
    "starts_df = starts_df[starts_df['had_trial'] == True]\n",
    "# no special trial lengths\n",
    "starts_df = starts_df[starts_df['trial_length_offer'].isin(['One Week', 'One Month'])]"
   ]
  },
  {
   "cell_type": "code",
   "execution_count": 12,
   "metadata": {},
   "outputs": [],
   "source": [
    "# these are the columns have some potential value to prediction.\n",
    "prediction_cols = ['user_uid', 'create_time', 'first_payment_time', 'last_payment_attempt',\n",
    "                   'last_failed_payment_attempt', 'user_cancellation_time', 'cancellation_time', \n",
    "                   'refund_time', 'coupon_id', 'coupon_trial_length', 'payment_provider', 'payment_ux', \n",
    "                   'is_refunded', 'is_cancelled', 'has_paid', 'trial_end', 'first_payment_currency_code', 'original_trial_end', \n",
    "                   'extended_trial_end', 'was_trial_extended', 'is_trial_extension', 'is_split_trial', \n",
    "                   'trial_length_days', 'trial_length_offer', 'sub_utm_source', 'sub_utm_campaign', \n",
    "                   'sub_utm_medium', 'sub_utm_term', 'sub_utm_channel', 'referral_source', 'eligible_trial_number']\n",
    "\n",
    "clean_df = starts_df[prediction_cols]"
   ]
  },
  {
   "cell_type": "code",
   "execution_count": 18,
   "metadata": {},
   "outputs": [],
   "source": [
    "# add a successful conversion column.\n",
    "clean_df['success'] = 0\n",
    "\n",
    "# set to 1 if they paid\n",
    "clean_df['success'][clean_df['first_payment_time'].notnull()] = 1\n",
    "\n",
    "# return to 0 if they got a refund.\n",
    "clean_df['success'][clean_df['is_refunded']==1] = 0\n",
    "\n",
    "# make a day version of the trial start and end dates.\n",
    "clean_df['cancellation_day'] = pd.to_datetime(clean_df.cancellation_time)\n",
    "clean_df['trial_end_day'] = pd.to_datetime(clean_df.original_trial_end)\n",
    "clean_df['trial_start_day'] = pd.to_datetime(clean_df.create_time)\n",
    "\n",
    "# Need to breakdown if the cancellation came before or after the first payment.\n",
    "clean_df['is_cancel_during_trial'] = 0\n",
    "clean_df['is_cancel_during_trial'][clean_df['cancellation_day'] <= clean_df['trial_end_day']] = 1"
   ]
  },
  {
   "cell_type": "code",
   "execution_count": 19,
   "metadata": {},
   "outputs": [],
   "source": [
    "# for some reason user_uid is a float only on this dataframe. Change it to an int.\n",
    "clean_df['user_uid'] = clean_df['user_uid'].astype(int)"
   ]
  },
  {
   "cell_type": "code",
   "execution_count": 20,
   "metadata": {},
   "outputs": [],
   "source": [
    "# create category code columns for each of the most relevant predictive columns\n",
    "clean_df['payment_provider_cat'] = clean_df['payment_provider'].astype('category')\n",
    "clean_df['payment_provider_cat_codes'] = clean_df['payment_provider_cat'].cat.codes\n",
    "\n",
    "clean_df['payment_ux_cat'] = clean_df['payment_ux'].astype('category')\n",
    "clean_df['payment_ux_cat_codes'] = clean_df['payment_ux_cat'].cat.codes\n",
    "\n",
    "clean_df['trial_length_offer_cat'] = clean_df['trial_length_offer'].astype('category')\n",
    "clean_df['trial_length_offer_cat_codes'] = clean_df['trial_length_offer_cat'].cat.codes\n",
    "\n",
    "clean_df['sub_utm_channel_cat'] = clean_df['sub_utm_channel'].astype('category')\n",
    "clean_df['sub_utm_channel_cat_codes'] = clean_df['sub_utm_channel_cat'].cat.codes\n",
    "\n",
    "clean_df['sub_utm_source_cat'] = clean_df['sub_utm_source'].astype('category')\n",
    "clean_df['sub_utm_source_cat_codes'] = clean_df['sub_utm_source_cat'].cat.codes\n",
    "\n",
    "clean_df['user_uid'] = clean_df['user_uid'].astype(int)"
   ]
  },
  {
   "cell_type": "code",
   "execution_count": 21,
   "metadata": {},
   "outputs": [],
   "source": [
    "# export all of the lookup columns for EDA analysis.\n",
    "payment_provider_lookup_df = clean_df.groupby(\n",
    "    by=['payment_provider', 'payment_provider_cat_codes']).agg(\n",
    "        volume=pd.NamedAgg(column='user_uid', aggfunc='count')).reset_index()\n",
    "payment_provider_lookup_df.to_csv('~/capstone_data/lookup_payment_providers.csv', index=False)\n",
    "\n",
    "payment_ux_df = clean_df.groupby(\n",
    "    by=['payment_ux', 'payment_ux_cat_codes']).agg(\n",
    "        volume=pd.NamedAgg(column='user_uid', aggfunc='count')).reset_index()\n",
    "payment_ux_df.to_csv('~/capstone_data/lookup_payment_ux.csv', index=False)\n",
    "\n",
    "trial_length_df = clean_df.groupby(\n",
    "    by=['trial_length_offer', 'trial_length_offer_cat_codes']).agg(\n",
    "        volume=pd.NamedAgg(column='user_uid', aggfunc='count')).reset_index()\n",
    "trial_length_df.to_csv('~/capstone_data/lookup_trial_length_offer.csv', index=False)\n",
    "\n",
    "sub_utm_channel_df = clean_df.groupby(\n",
    "    by=['sub_utm_channel', 'sub_utm_channel_cat_codes']).agg(\n",
    "        volume=pd.NamedAgg(column='user_uid', aggfunc='count')).reset_index()\n",
    "sub_utm_channel_df.to_csv('~/capstone_data/lookup_sub_utm_channel.csv', index=False)\n",
    "\n",
    "sub_utm_source_df = clean_df.groupby(\n",
    "    by=['sub_utm_source', 'sub_utm_source_cat_codes']).agg(\n",
    "        volume=pd.NamedAgg(column='user_uid', aggfunc='count')).reset_index()\n",
    "sub_utm_source_df.to_csv('~/capstone_data/lookup_sub_utm_source.csv', index=False)"
   ]
  },
  {
   "cell_type": "code",
   "execution_count": 22,
   "metadata": {},
   "outputs": [],
   "source": [
    "clean_df.to_csv('~/capstone_data/skillshare_2022_starts_clean.csv', index=False)"
   ]
  },
  {
   "cell_type": "code",
   "execution_count": null,
   "metadata": {},
   "outputs": [],
   "source": []
  }
 ],
 "metadata": {
  "kernelspec": {
   "display_name": "Python 3",
   "language": "python",
   "name": "python3"
  },
  "language_info": {
   "codemirror_mode": {
    "name": "ipython",
    "version": 3
   },
   "file_extension": ".py",
   "mimetype": "text/x-python",
   "name": "python",
   "nbconvert_exporter": "python",
   "pygments_lexer": "ipython3",
   "version": "3.8.5"
  }
 },
 "nbformat": 4,
 "nbformat_minor": 4
}
